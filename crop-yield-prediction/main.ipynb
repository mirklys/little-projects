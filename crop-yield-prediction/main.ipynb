{
  "nbformat": 4,
  "nbformat_minor": 0,
  "metadata": {
    "colab": {
      "provenance": [],
      "authorship_tag": "ABX9TyP4rw5yp1d/zsnaBzBMBgA1",
      "include_colab_link": true
    },
    "kernelspec": {
      "name": "python3",
      "display_name": "Python 3"
    },
    "language_info": {
      "name": "python"
    }
  },
  "cells": [
    {
      "cell_type": "markdown",
      "metadata": {
        "id": "view-in-github",
        "colab_type": "text"
      },
      "source": [
        "<a href=\"https://colab.research.google.com/github/mirklys/little-projects/blob/main/crop-yield-prediction/main.ipynb\" target=\"_parent\"><img src=\"https://colab.research.google.com/assets/colab-badge.svg\" alt=\"Open In Colab\"/></a>"
      ]
    },
    {
      "cell_type": "markdown",
      "source": [
        "#Crop Yield Prediction"
      ],
      "metadata": {
        "id": "5Fpt2vLqpuuR"
      }
    },
    {
      "cell_type": "markdown",
      "source": [
        "## Pre-setup"
      ],
      "metadata": {
        "id": "H-9fOeNy08zy"
      }
    },
    {
      "cell_type": "code",
      "source": [
        "import os\n",
        "import gzip\n",
        "import numpy as np\n",
        "import pandas as pd\n",
        "import seaborn as sns\n",
        "import matplotlib.pyplot as plt\n",
        "from google.colab import drive\n",
        "from functools import reduce\n",
        "import zipfile\n",
        "import re\n",
        "\n",
        "# installing extra packages\n",
        "try:\n",
        "    from pyspark.sql import SparkSession\n",
        "    from pyspark.sql import DataFrame\n",
        "    from pyspark.sql.functions import col, regexp_replace, when, lit, sum\n",
        "    import rasterio\n",
        "except:\n",
        "    !pip install pyspark\n",
        "    !pip install rasterio\n",
        "    from pyspark.sql import SparkSession\n",
        "    from pyspark.sql import DataFrame\n",
        "    from pyspark.sql.functions import col, regexp_replace, when, lit, sum\n",
        "    import rasterio"
      ],
      "metadata": {
        "id": "BO-g2z-m1DIb"
      },
      "execution_count": null,
      "outputs": []
    },
    {
      "cell_type": "code",
      "source": [
        "spark = SparkSession.builder.getOrCreate()"
      ],
      "metadata": {
        "id": "Po52zsvn7KVc"
      },
      "execution_count": null,
      "outputs": []
    },
    {
      "cell_type": "code",
      "source": [
        "# this is space for changing to gpu/tpu"
      ],
      "metadata": {
        "id": "XOnWZLqE3ZXN"
      },
      "execution_count": null,
      "outputs": []
    },
    {
      "cell_type": "code",
      "source": [
        "drive.mount('/content/gdrive', force_remount=True)\n",
        "PATH_MAIN = '/content/gdrive/MyDrive/Projects/Crop Yield Prediction'\n",
        "os.chdir(PATH_MAIN)"
      ],
      "metadata": {
        "colab": {
          "base_uri": "https://localhost:8080/"
        },
        "id": "Sp0abs004Cz0",
        "outputId": "a8be0ef3-b279-4625-cdb3-47f326857c28"
      },
      "execution_count": null,
      "outputs": [
        {
          "output_type": "stream",
          "name": "stdout",
          "text": [
            "Mounted at /content/gdrive\n"
          ]
        }
      ]
    },
    {
      "cell_type": "markdown",
      "source": [
        "## Loading the data\n",
        "The data folder contains files with different file extensions; many of the files must be extracted, some are .gz, some are .zip. "
      ],
      "metadata": {
        "id": "iWgiOp9m0nW6"
      }
    },
    {
      "cell_type": "code",
      "execution_count": null,
      "metadata": {
        "id": "ZIkZoOK_prdF"
      },
      "outputs": [],
      "source": [
        "# Data folder contains: crop-yield, soil-properties, weather data\n",
        "crop_yield_files = os.listdir('./data/crop-yield')\n",
        "crop_yield_files = ['./data/crop-yield/' + f for f in crop_yield_files if not f.startswith('./data/crop-yield/')]\n",
        "\n",
        "\n",
        "crop_yield_dfs = [spark.read.option(\"header\", \"true\").csv(PATH_MAIN+f[1:]) for f in crop_yield_files]\n",
        "# concatenate all DataFrames into a single DataFrame\n",
        "crop_yield_df = reduce(lambda df1, df2: df1.unionAll(df2), crop_yield_dfs)"
      ]
    },
    {
      "cell_type": "code",
      "source": [
        "# https://www.ncei.noaa.gov/pub/data/ghcn/daily/\n",
        "weather_files = os.listdir('./data/weather')\n",
        "weather_files = ['./data/weather/' + f for f in weather_files if not f.startswith('./data/weather/')]\n",
        "weather_dfs = {}\n",
        "\n",
        "for wf in weather_files[:1]:\n",
        "    weather_dfs[wf[15:19]] = spark.read \\\n",
        "          .option(\"header\", \"false\") \\\n",
        "          .option(\"inferSchema\", \"true\") \\\n",
        "          .option(\"compression\", \"gzip\") \\\n",
        "          .csv(wf)\n",
        "\n",
        "weather_dfs = {year: df.withColumn('year', lit(year)) for year, df in weather_dfs.items()}\n",
        "weather_df = reduce(lambda df1, df2: df1.unionAll(df2), weather_dfs.values())"
      ],
      "metadata": {
        "id": "4y6PmJBm3c2O"
      },
      "execution_count": null,
      "outputs": []
    },
    {
      "cell_type": "code",
      "source": [
        "soil_properties_files = os.listdir('./data/soil-properties')\n",
        "soil_properties_files = ['./data/soil-properties/' + f for f in soil_properties_files if not f.startswith('./data/soil-properties/')]\n",
        "soil_properties_df = pd.DataFrame()\n",
        "with zipfile.ZipFile(soil_properties_files[0], 'r') as zip_ref:\n",
        "    zip_ref.extractall('./data/soil-properties/data/')\n",
        "soil_properties_files_data = os.listdir('./data/soil-properties/data')\n",
        "soil_properties_files_data = ['./data/soil-properties/data/' + f for f in soil_properties_files_data if not f.startswith('./data/soil-properties/data/')]\n",
        "for spfd in soil_properties_files_data:\n",
        "    if spfd.endswith('.zip'):\n",
        "        with zipfile.ZipFile(spfd, 'r') as zip_ref:\n",
        "            filename = os.path.splitext(os.path.basename(spfd))[0]\n",
        "            zip_ref.extractall('./data/soil-properties/data/{}/'.format(filename))"
      ],
      "metadata": {
        "id": "oWLyT4fW3bzJ"
      },
      "execution_count": null,
      "outputs": []
    },
    {
      "cell_type": "code",
      "source": [
        "soil_properties_files_data = os.listdir('./data/soil-properties/data')\n",
        "soil_properties_files_data = ['./data/soil-properties/data/' + f for f in soil_properties_files_data if not f.startswith('./data/soil-properties/data/')]"
      ],
      "metadata": {
        "id": "FTwSwH4atLUt"
      },
      "execution_count": null,
      "outputs": []
    },
    {
      "cell_type": "code",
      "source": [
        "soil_porosity_path = './data/soil-properties/data/por_gNATSGO/por_gNATSGO/por_gNATSGO_US.tif'\n",
        "with rasterio.open(soil_porosity_path) as src:\n",
        "    # Get the number of bands in the raster\n",
        "    soil_porosity_data = src.read(1)\n",
        "print('Number of bands in the raster:', soil_porosity_data)"
      ],
      "metadata": {
        "id": "jJrizZpvx2jF"
      },
      "execution_count": null,
      "outputs": []
    },
    {
      "cell_type": "markdown",
      "source": [
        "## Analyzing Crop Yield"
      ],
      "metadata": {
        "id": "ZA4O6BuC3Uwl"
      }
    },
    {
      "cell_type": "code",
      "source": [
        "crop_yield_df = crop_yield_df.drop(\"Week Ending\",\"Ag District\",\"Ag District Code\", 'County',\n",
        "                   'County ANSI', 'Zip Code', 'Region', 'WaterShed',\n",
        "                   'Geo Level', 'watershed_code', 'Program', 'Period')\n",
        "crop_yield_df = crop_yield_df.filter(~col(\"Data Item\").rlike(r\"\\bSALES\\b|\\bOPERATIONS\\b|\\bPRODUCTION\\b\"))\n",
        "crop_yield_df = crop_yield_df.withColumn(\"Value\", regexp_replace(\"Value\", \"\\(H\\)|\\(D\\)\", \"null\"))"
      ],
      "metadata": {
        "id": "63kbgP0__gLs"
      },
      "execution_count": null,
      "outputs": []
    },
    {
      "cell_type": "code",
      "source": [
        "crop_yield_df.show()"
      ],
      "metadata": {
        "colab": {
          "base_uri": "https://localhost:8080/"
        },
        "id": "kOtfg8O9z1aa",
        "outputId": "156656d7-b959-412d-cfdb-317eba0f5db1"
      },
      "execution_count": null,
      "outputs": [
        {
          "output_type": "stream",
          "name": "stdout",
          "text": [
            "+----+------+--------+----------+------------------+--------------------+--------------+--------------------+------+------+\n",
            "|Year|Period|   State|State ANSI|         Commodity|           Data Item|        Domain|     Domain Category| Value|CV (%)|\n",
            "+----+------+--------+----------+------------------+--------------------+--------------+--------------------+------+------+\n",
            "|2021|  YEAR| ALABAMA|        01| FIELD CROP TOTALS|FIELD CROP TOTALS...|ORGANIC STATUS|ORGANIC STATUS: (...| 1,270|  85.5|\n",
            "|2021|  YEAR| ALABAMA|        01|               HAY|HAY, (EXCL ALFALF...|ORGANIC STATUS|ORGANIC STATUS: (...| 1,270|  85.5|\n",
            "|2021|  YEAR| ALABAMA|        01|               HAY|HAY, ORGANIC - AC...|ORGANIC STATUS|ORGANIC STATUS: (...| 1,270|  85.5|\n",
            "|2021|  YEAR| ARIZONA|        04|         CHICKPEAS|CHICKPEAS, ORGANI...|ORGANIC STATUS|ORGANIC STATUS: (...|  null|   (D)|\n",
            "|2021|  YEAR| ARIZONA|        04|            COTTON|COTTON, ORGANIC -...|ORGANIC STATUS|ORGANIC STATUS: (...|  null|   (D)|\n",
            "|2021|  YEAR| ARIZONA|        04| FIELD CROP TOTALS|FIELD CROP TOTALS...|ORGANIC STATUS|ORGANIC STATUS: (...| 6,184|  69.1|\n",
            "|2021|  YEAR| ARIZONA|        04|FIELD CROPS, OTHER|FIELD CROPS, OTHE...|ORGANIC STATUS|ORGANIC STATUS: (...|  null|   (D)|\n",
            "|2021|  YEAR| ARIZONA|        04|               HAY|HAY, (EXCL ALFALF...|ORGANIC STATUS|ORGANIC STATUS: (...|  null|   (D)|\n",
            "|2021|  YEAR| ARIZONA|        04|               HAY|HAY, ORGANIC - AC...|ORGANIC STATUS|ORGANIC STATUS: (...|  null|   (D)|\n",
            "|2021|  YEAR| ARIZONA|        04|             WHEAT|WHEAT, ORGANIC - ...|ORGANIC STATUS|ORGANIC STATUS: (...| 2,408|  76.5|\n",
            "|2021|  YEAR| ARIZONA|        04|             WHEAT|WHEAT, SPRING, DU...|ORGANIC STATUS|ORGANIC STATUS: (...|  null|   (D)|\n",
            "|2021|  YEAR| ARIZONA|        04|             WHEAT|WHEAT, WINTER, OR...|ORGANIC STATUS|ORGANIC STATUS: (...|  null|   (D)|\n",
            "|2021|  YEAR|ARKANSAS|        05|              CORN|CORN, GRAIN, ORGA...|ORGANIC STATUS|ORGANIC STATUS: (...|  null|   (D)|\n",
            "|2021|  YEAR|ARKANSAS|        05| FIELD CROP TOTALS|FIELD CROP TOTALS...|ORGANIC STATUS|ORGANIC STATUS: (...|22,701|   (H)|\n",
            "|2021|  YEAR|ARKANSAS|        05|               HAY|HAY, (EXCL ALFALF...|ORGANIC STATUS|ORGANIC STATUS: (...|   141|  71.5|\n",
            "|2021|  YEAR|ARKANSAS|        05|               HAY|HAY, ORGANIC - AC...|ORGANIC STATUS|ORGANIC STATUS: (...|   141|  71.5|\n",
            "|2021|  YEAR|ARKANSAS|        05|              RICE|RICE, ORGANIC - A...|ORGANIC STATUS|ORGANIC STATUS: (...|  null|   (D)|\n",
            "|2021|  YEAR|ARKANSAS|        05|          SOYBEANS|SOYBEANS, ORGANIC...|ORGANIC STATUS|ORGANIC STATUS: (...|  null|   (D)|\n",
            "|2021|  YEAR|ARKANSAS|        05|             WHEAT|WHEAT, ORGANIC - ...|ORGANIC STATUS|ORGANIC STATUS: (...|  null|   (D)|\n",
            "|2021|  YEAR|ARKANSAS|        05|             WHEAT|WHEAT, WINTER, OR...|ORGANIC STATUS|ORGANIC STATUS: (...|  null|   (D)|\n",
            "+----+------+--------+----------+------------------+--------------------+--------------+--------------------+------+------+\n",
            "only showing top 20 rows\n",
            "\n"
          ]
        }
      ]
    },
    {
      "cell_type": "code",
      "source": [
        "crop_yield_df.select('Period').distinct().rdd.flatMap(lambda x: x).collect()"
      ],
      "metadata": {
        "colab": {
          "base_uri": "https://localhost:8080/"
        },
        "id": "FE1KSOed7zhF",
        "outputId": "12eec970-8dcf-49ea-ea9c-9e76f7fba16d"
      },
      "execution_count": null,
      "outputs": [
        {
          "output_type": "execute_result",
          "data": {
            "text/plain": [
              "['YEAR', 'END OF DEC']"
            ]
          },
          "metadata": {},
          "execution_count": 44
        }
      ]
    },
    {
      "cell_type": "code",
      "source": [
        "crop_total_df = crop_yield_df.filter(col('Commodity')=='FIELD CROP TOTALS')\n",
        "crop_total_df = crop_total_df.drop('Commodity', 'Data Item', 'Domain',\n",
        "                                   'Domain Category')\n",
        "\n",
        "#crop_total_df = crop_total_df.withColumnRenamed(\"Value\", \"Total Harvested\") \\\n",
        "#       .withColumn(\"Total Harvested\", col(\"Total Harvested\") * 4046.856422)\n",
        "crop_total_df = crop_total_df.withColumnRenamed(\"Value\", \"total_harvested\") \\\n",
        "                .withColumn(\"total_harvested\",\n",
        "                            when(col(\"total_harvested\").rlike(\"\\d+\"), \n",
        "                                 regexp_replace(col(\"total_harvested\"), \",\", \"\") \\\n",
        "                                 .cast(\"integer\") * 4046.86) \\\n",
        "                                 .otherwise(col(\"total_harvested\")))\n",
        "crop_total_df = crop_total_df.groupBy(\"Year\", \"State\").agg(sum(\"total_harvested\").alias(\"total_harvested\"))"
      ],
      "metadata": {
        "id": "WGfw1hlFFF-8"
      },
      "execution_count": null,
      "outputs": []
    },
    {
      "cell_type": "code",
      "source": [
        "crop_total_df.show(500)"
      ],
      "metadata": {
        "id": "xT1oBBkGVYns"
      },
      "execution_count": null,
      "outputs": []
    }
  ]
}