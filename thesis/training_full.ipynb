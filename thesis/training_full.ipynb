{
  "cells": [
    {
      "cell_type": "markdown",
      "metadata": {
        "id": "view-in-github",
        "colab_type": "text"
      },
      "source": [
        "<a href=\"https://colab.research.google.com/github/mirklys/little-projects/blob/main/thesis/training_full.ipynb\" target=\"_parent\"><img src=\"https://colab.research.google.com/assets/colab-badge.svg\" alt=\"Open In Colab\"/></a>"
      ]
    },
    {
      "cell_type": "code",
      "execution_count": 1,
      "metadata": {
        "colab": {
          "base_uri": "https://localhost:8080/"
        },
        "id": "0aQd51ueWTGs",
        "outputId": "f1f19b84-f668-45ff-d554-38699dbaa676"
      },
      "outputs": [
        {
          "output_type": "stream",
          "name": "stdout",
          "text": [
            "Sun Apr 24 08:22:47 2022       \n",
            "+-----------------------------------------------------------------------------+\n",
            "| NVIDIA-SMI 460.32.03    Driver Version: 460.32.03    CUDA Version: 11.2     |\n",
            "|-------------------------------+----------------------+----------------------+\n",
            "| GPU  Name        Persistence-M| Bus-Id        Disp.A | Volatile Uncorr. ECC |\n",
            "| Fan  Temp  Perf  Pwr:Usage/Cap|         Memory-Usage | GPU-Util  Compute M. |\n",
            "|                               |                      |               MIG M. |\n",
            "|===============================+======================+======================|\n",
            "|   0  Tesla T4            Off  | 00000000:00:04.0 Off |                    0 |\n",
            "| N/A   68C    P8    12W /  70W |      0MiB / 15109MiB |      0%      Default |\n",
            "|                               |                      |                  N/A |\n",
            "+-------------------------------+----------------------+----------------------+\n",
            "                                                                               \n",
            "+-----------------------------------------------------------------------------+\n",
            "| Processes:                                                                  |\n",
            "|  GPU   GI   CI        PID   Type   Process name                  GPU Memory |\n",
            "|        ID   ID                                                   Usage      |\n",
            "|=============================================================================|\n",
            "|  No running processes found                                                 |\n",
            "+-----------------------------------------------------------------------------+\n"
          ]
        }
      ],
      "source": [
        "!nvidia-smi"
      ]
    },
    {
      "cell_type": "code",
      "execution_count": 2,
      "metadata": {
        "id": "hLt7AvqyrQOm",
        "colab": {
          "base_uri": "https://localhost:8080/"
        },
        "outputId": "8777abda-86c2-4989-8d4c-cae285accee8"
      },
      "outputs": [
        {
          "output_type": "stream",
          "name": "stdout",
          "text": [
            "Collecting Box2D\n",
            "  Downloading Box2D-2.3.10-cp37-cp37m-manylinux1_x86_64.whl (1.3 MB)\n",
            "\u001b[K     |████████████████████████████████| 1.3 MB 32.4 MB/s \n",
            "\u001b[?25hInstalling collected packages: Box2D\n",
            "Successfully installed Box2D-2.3.10\n",
            "Collecting box2d-py\n",
            "  Downloading box2d_py-2.3.8-cp37-cp37m-manylinux1_x86_64.whl (448 kB)\n",
            "\u001b[K     |████████████████████████████████| 448 kB 31.4 MB/s \n",
            "\u001b[?25hInstalling collected packages: box2d-py\n",
            "Successfully installed box2d-py-2.3.8\n",
            "Requirement already satisfied: gym[all] in /usr/local/lib/python3.7/dist-packages (0.17.3)\n",
            "Requirement already satisfied: scipy in /usr/local/lib/python3.7/dist-packages (from gym[all]) (1.4.1)\n",
            "Requirement already satisfied: numpy>=1.10.4 in /usr/local/lib/python3.7/dist-packages (from gym[all]) (1.21.6)\n",
            "Requirement already satisfied: pyglet<=1.5.0,>=1.4.0 in /usr/local/lib/python3.7/dist-packages (from gym[all]) (1.5.0)\n",
            "Requirement already satisfied: cloudpickle<1.7.0,>=1.2.0 in /usr/local/lib/python3.7/dist-packages (from gym[all]) (1.3.0)\n",
            "Collecting mujoco-py<2.0,>=1.50\n",
            "  Downloading mujoco-py-1.50.1.68.tar.gz (120 kB)\n",
            "\u001b[K     |████████████████████████████████| 120 kB 33.1 MB/s \n",
            "\u001b[?25hRequirement already satisfied: opencv-python in /usr/local/lib/python3.7/dist-packages (from gym[all]) (4.1.2.30)\n",
            "Requirement already satisfied: atari-py~=0.2.0 in /usr/local/lib/python3.7/dist-packages (from gym[all]) (0.2.9)\n",
            "Requirement already satisfied: Pillow in /usr/local/lib/python3.7/dist-packages (from gym[all]) (7.1.2)\n",
            "Requirement already satisfied: imageio in /usr/local/lib/python3.7/dist-packages (from gym[all]) (2.4.1)\n",
            "Requirement already satisfied: box2d-py~=2.3.5 in /usr/local/lib/python3.7/dist-packages (from gym[all]) (2.3.8)\n",
            "Requirement already satisfied: six in /usr/local/lib/python3.7/dist-packages (from atari-py~=0.2.0->gym[all]) (1.15.0)\n",
            "Collecting glfw>=1.4.0\n",
            "  Downloading glfw-2.5.3-py2.py27.py3.py30.py31.py32.py33.py34.py35.py36.py37.py38-none-manylinux2014_x86_64.whl (206 kB)\n",
            "\u001b[K     |████████████████████████████████| 206 kB 59.3 MB/s \n",
            "\u001b[?25hRequirement already satisfied: Cython>=0.27.2 in /usr/local/lib/python3.7/dist-packages (from mujoco-py<2.0,>=1.50->gym[all]) (0.29.28)\n",
            "Requirement already satisfied: cffi>=1.10 in /usr/local/lib/python3.7/dist-packages (from mujoco-py<2.0,>=1.50->gym[all]) (1.15.0)\n",
            "Collecting lockfile>=0.12.2\n",
            "  Downloading lockfile-0.12.2-py2.py3-none-any.whl (13 kB)\n",
            "Requirement already satisfied: pycparser in /usr/local/lib/python3.7/dist-packages (from cffi>=1.10->mujoco-py<2.0,>=1.50->gym[all]) (2.21)\n",
            "Requirement already satisfied: future in /usr/local/lib/python3.7/dist-packages (from pyglet<=1.5.0,>=1.4.0->gym[all]) (0.16.0)\n",
            "Building wheels for collected packages: mujoco-py\n",
            "  Building wheel for mujoco-py (setup.py) ... \u001b[?25lerror\n",
            "\u001b[31m  ERROR: Failed building wheel for mujoco-py\u001b[0m\n",
            "\u001b[?25h  Running setup.py clean for mujoco-py\n",
            "Failed to build mujoco-py\n",
            "Installing collected packages: lockfile, glfw, mujoco-py\n",
            "    Running setup.py install for mujoco-py ... \u001b[?25l\u001b[?25herror\n",
            "\u001b[31mERROR: Command errored out with exit status 1: /usr/bin/python3 -u -c 'import io, os, sys, setuptools, tokenize; sys.argv[0] = '\"'\"'/tmp/pip-install-yai6ddzs/mujoco-py_c354b8319ac944ce801482c0e9ae5d0e/setup.py'\"'\"'; __file__='\"'\"'/tmp/pip-install-yai6ddzs/mujoco-py_c354b8319ac944ce801482c0e9ae5d0e/setup.py'\"'\"';f = getattr(tokenize, '\"'\"'open'\"'\"', open)(__file__) if os.path.exists(__file__) else io.StringIO('\"'\"'from setuptools import setup; setup()'\"'\"');code = f.read().replace('\"'\"'\\r\\n'\"'\"', '\"'\"'\\n'\"'\"');f.close();exec(compile(code, __file__, '\"'\"'exec'\"'\"'))' install --record /tmp/pip-record-gpxjk7t9/install-record.txt --single-version-externally-managed --compile --install-headers /usr/local/include/python3.7/mujoco-py Check the logs for full command output.\u001b[0m\n",
            "Requirement already satisfied: gym[Box_2D] in /usr/local/lib/python3.7/dist-packages (0.17.3)\n",
            "\u001b[33mWARNING: gym 0.17.3 does not provide the extra 'box_2d'\u001b[0m\n",
            "Requirement already satisfied: pyglet<=1.5.0,>=1.4.0 in /usr/local/lib/python3.7/dist-packages (from gym[Box_2D]) (1.5.0)\n",
            "Requirement already satisfied: cloudpickle<1.7.0,>=1.2.0 in /usr/local/lib/python3.7/dist-packages (from gym[Box_2D]) (1.3.0)\n",
            "Requirement already satisfied: numpy>=1.10.4 in /usr/local/lib/python3.7/dist-packages (from gym[Box_2D]) (1.21.6)\n",
            "Requirement already satisfied: scipy in /usr/local/lib/python3.7/dist-packages (from gym[Box_2D]) (1.4.1)\n",
            "Requirement already satisfied: future in /usr/local/lib/python3.7/dist-packages (from pyglet<=1.5.0,>=1.4.0->gym[Box_2D]) (0.16.0)\n"
          ]
        }
      ],
      "source": [
        "!pip3 install Box2D\n",
        "!pip3 install box2d-py\n",
        "!pip3 install gym[all]\n",
        "!pip3 install gym[Box_2D]"
      ]
    },
    {
      "cell_type": "code",
      "execution_count": 4,
      "metadata": {
        "id": "s-g0NopTrp47"
      },
      "outputs": [],
      "source": [
        "!pip install stable_baselines\n",
        "!pip install stable_baselines3"
      ]
    },
    {
      "cell_type": "code",
      "execution_count": 5,
      "metadata": {
        "id": "wytxwkxCrrVP"
      },
      "outputs": [],
      "source": [
        "!pip install tensorflow"
      ]
    },
    {
      "cell_type": "code",
      "execution_count": 6,
      "metadata": {
        "id": "bEy3XKtCruqL"
      },
      "outputs": [],
      "source": [
        "import gym\n",
        "import os\n",
        "import numpy as np\n",
        "import torch as th\n",
        "from torch import nn\n",
        "from torch.distributions.bernoulli import Bernoulli\n",
        "import matplotlib.pyplot as plt\n",
        "from collections import defaultdict\n",
        "import time\n",
        "\n",
        "from stable_baselines3 import PPO, A2C, SAC\n",
        "from stable_baselines3.common.vec_env import DummyVecEnv, SubprocVecEnv\n",
        "from stable_baselines3.common.env_util import make_vec_env\n",
        "from stable_baselines3.common.utils import set_random_seed\n",
        "from stable_baselines3.common.utils import get_device\n",
        "from stable_baselines3.common.torch_layers import BaseFeaturesExtractor\n",
        "from stable_baselines3.common.evaluation import evaluate_policy\n",
        "from stable_baselines.common import set_global_seeds, make_vec_env\n",
        "from stable_baselines3.common.monitor import Monitor"
      ]
    },
    {
      "cell_type": "code",
      "execution_count": 7,
      "metadata": {
        "colab": {
          "base_uri": "https://localhost:8080/"
        },
        "id": "3csfnd3-rwGZ",
        "outputId": "d6840588-ffdb-4aec-f9ab-d65c316a4c06"
      },
      "outputs": [
        {
          "output_type": "stream",
          "name": "stdout",
          "text": [
            "Mounted at /content/gdrive\n"
          ]
        }
      ],
      "source": [
        "from google.colab import drive\n",
        "drive.mount('/content/gdrive')"
      ]
    },
    {
      "cell_type": "code",
      "execution_count": 8,
      "metadata": {
        "id": "21-9cWTtrx3B"
      },
      "outputs": [],
      "source": [
        "PATH_BASE = '/content/gdrive/MyDrive/Thesis Project'\n",
        "PATH_DATA = os.path.join(PATH_BASE, 'data/')\n",
        "PATH_NETWORKS = os.path.join(PATH_BASE, 'networks/')\n",
        "PATH_PLOTS = os.path.join(PATH_BASE, 'plots/')\n",
        "PATH_RESULTS = os.path.join(PATH_BASE, 'results/')\n",
        "PATH_LOGS = os.path.join(PATH_BASE, 'logs/')\n",
        "os.chdir(PATH_BASE)"
      ]
    },
    {
      "cell_type": "code",
      "execution_count": 9,
      "metadata": {
        "colab": {
          "base_uri": "https://localhost:8080/"
        },
        "id": "acU7wE3MUpDT",
        "outputId": "a9b990a1-8613-4fec-857d-2c179eb55c00"
      },
      "outputs": [
        {
          "output_type": "execute_result",
          "data": {
            "text/plain": [
              "device(type='cuda')"
            ]
          },
          "metadata": {},
          "execution_count": 9
        }
      ],
      "source": [
        "dev = th.device('cuda' if th.cuda.is_available() else 'cpu')\n",
        "dev"
      ]
    },
    {
      "cell_type": "code",
      "execution_count": 10,
      "metadata": {
        "id": "cdKKbQeqr10I"
      },
      "outputs": [],
      "source": [
        "class MaskedMLP(BaseFeaturesExtractor):\n",
        "    def __init__(self, observation_space, dropout_param=0.0, percent_to_mask=0.0, size=32, job='train'):\n",
        "        assert job == 'train' or job == 'train_masked',\\\n",
        "            \"This class can only be initialized for jobs: train, train_masked\"\n",
        "\n",
        "        self.l1_size = size\n",
        "        self.l2_size = size\n",
        "        self.job = job\n",
        "        super(MaskedMLP, self).__init__(observation_space, self.l2_size)\n",
        "\n",
        "        self.dropout_param = dropout_param\n",
        "        self.percent_to_mask = percent_to_mask\n",
        "\n",
        "        input_size = observation_space.shape[0]\n",
        "\n",
        "        self.linear1 = nn.Linear(input_size, self.l1_size)\n",
        "        self.linear2 = nn.Linear(self.l1_size, self.l2_size)\n",
        "        self.elu = nn.ELU()\n",
        "        self.dropout = nn.Dropout(p=self.dropout_param)\n",
        "\n",
        "        self.mask_units(self.percent_to_mask)\n",
        "\n",
        "    def mask_units(self, percent_to_mask):\n",
        "        self.mask_distribution = Bernoulli(th.tensor([1.0-percent_to_mask]*self.l2_size))   \n",
        "        self.mask = self.mask_distribution.sample()\n",
        "\n",
        "    def forward(self, observations):\n",
        "        x = self.linear1(observations)\n",
        "        x = self.elu(x)\n",
        "        x = self.linear2(x)\n",
        "        if self.job == 'train': x = self.dropout(x)\n",
        "        l2 = self.elu(x)\n",
        "\n",
        "        if not self.training or self.job == 'train_masked':\n",
        "            self.mask = self.mask.to(l2.device)\n",
        "            l2 = l2*self.mask\n",
        "\n",
        "\n",
        "        return l2\n"
      ]
    },
    {
      "cell_type": "code",
      "execution_count": null,
      "metadata": {
        "colab": {
          "base_uri": "https://localhost:8080/"
        },
        "id": "fXYhlE9u0dMG",
        "outputId": "9a890a17-8bb6-480f-b055-3e9657b7d8f5"
      },
      "outputs": [
        {
          "output_type": "stream",
          "name": "stdout",
          "text": [
            "Started training Pendulum-v1 models for different number of steps \n",
            "\n",
            "device cuda\n",
            "Training 0.0 128 model for 300000 steps \n",
            "\n"
          ]
        }
      ],
      "source": [
        "\"\"\"\n",
        "Training LunarLander walker\n",
        "\"\"\"\n",
        "#game = 'LunarLander-v2'\n",
        "game = 'Pendulum-v1'\n",
        "max_rew = 500\n",
        "with open(os.path.join(PATH_LOGS, \"{}.txt\".format(game)), \"w\") as f:\n",
        "    f.write(\"Started training {} models for different number of steps \\n\".format(game))\n",
        "    print(\"Started training {} models for different number of steps \\n\".format(game))\n",
        "    for size in [128, 256, 512, 1024]:\n",
        "        for dropout in np.arange(0, 1, 0.1):\n",
        "            num_training_steps = int(3e5)\n",
        "            rew = 0\n",
        "            policy_kwargs = dict(\n",
        "                features_extractor_class=MaskedMLP,\n",
        "                features_extractor_kwargs=dict(dropout_param=dropout, size=size, job='train')\n",
        "            )\n",
        "            env = make_vec_env(game, n_envs=10, seed=0, vec_env_cls=DummyVecEnv)\n",
        "            model = SAC('MlpPolicy', env, verbose=0,\n",
        "                        policy_kwargs = policy_kwargs, device=dev)\n",
        "            d = get_device()\n",
        "            print(\"device\", d)\n",
        "            f.write(\"Training {} {} model for {} steps \\n\".format(dropout, size, num_training_steps))\n",
        "            print(\"Training {} {} model for {} steps \\n\".format(dropout, size, num_training_steps))\n",
        "            t = time.process_time()\n",
        "            while rew < max_rew:\n",
        "                model.learn(num_training_steps)\n",
        "                model_save_title = \"{}.{}x{}.dropout_{}\".format(game, model.policy.features_extractor.l1_size, model.policy.features_extractor.l2_size, dropout)\n",
        "                model.save(os.path.join(PATH_NETWORKS, game, model_save_title))\n",
        "                f.write(\"we saved it nevertheless\")\n",
        "                print(\"we saved it nevertheless\")\n",
        "                rew, std = evaluate_policy(model, env, n_eval_episodes=int(1e2))\n",
        "                f.write(\"we reached {} +-{} reward score\".format(rew, std))\n",
        "                print(\"we reached {} +-{} reward score\".format(rew, std))\n",
        "                if rew < max_rew*0.9 and std/rew < 0.1:\n",
        "                    num_training_steps = int(1e5)\n",
        "                    f.write(\"we need additional {} steps to try to reach around 300 cumulative reward score\\n\".format(num_training_steps))\n",
        "                    print(\"we need additional {} steps to try to reach around 300 cumulative reward score\\n\".format(num_training_steps))\n",
        "                    \n",
        "            f.write(\"it took {} min to train the {}x{} model with {}% dropout\\n\".format(round((time.process_time() - t)/60, 2), size, size, dropout*100))\n",
        "            print(\"it took {} min to train the {}x{} model with {}% dropout\\n\".format(round((time.process_time() - t)/60, 2), size, size, dropout*100))\n",
        "            model_save_title = \"{}.{}x{}.dropout_{}\".format(game, model.policy.features_extractor.l1_size, model.policy.features_extractor.l2_size, dropout)\n",
        "            model.save(os.path.join(PATH_NETWORKS, game, model_save_title))"
      ]
    }
  ],
  "metadata": {
    "accelerator": "GPU",
    "colab": {
      "collapsed_sections": [],
      "machine_shape": "hm",
      "name": "training_full.ipynb",
      "provenance": [],
      "authorship_tag": "ABX9TyPfaTQyertnTWvjH2yldZdt",
      "include_colab_link": true
    },
    "kernelspec": {
      "display_name": "Python 3",
      "name": "python3"
    },
    "language_info": {
      "name": "python"
    }
  },
  "nbformat": 4,
  "nbformat_minor": 0
}