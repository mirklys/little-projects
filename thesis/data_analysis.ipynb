{
  "nbformat": 4,
  "nbformat_minor": 0,
  "metadata": {
    "colab": {
      "name": "data_analysis.ipynb",
      "provenance": [],
      "authorship_tag": "ABX9TyPNRRoYaToOR/+cE1e1MYqG",
      "include_colab_link": true
    },
    "kernelspec": {
      "name": "python3",
      "display_name": "Python 3"
    },
    "language_info": {
      "name": "python"
    }
  },
  "cells": [
    {
      "cell_type": "markdown",
      "metadata": {
        "id": "view-in-github",
        "colab_type": "text"
      },
      "source": [
        "<a href=\"https://colab.research.google.com/github/mirklys/little-projects/blob/main/thesis/data_analysis.ipynb\" target=\"_parent\"><img src=\"https://colab.research.google.com/assets/colab-badge.svg\" alt=\"Open In Colab\"/></a>"
      ]
    },
    {
      "cell_type": "code",
      "execution_count": 25,
      "metadata": {
        "id": "oQglalECYFeu"
      },
      "outputs": [],
      "source": [
        "import torch as th\n",
        "import numpy as np\n",
        "import pandas as pd\n",
        "import matplotlib.pyplot as plt\n",
        "import os\n",
        "import pickle\n",
        "import copy\n",
        "from collections import defaultdict"
      ]
    },
    {
      "cell_type": "code",
      "source": [
        "from google.colab import drive\n",
        "drive.mount('/content/gdrive', force_remount=True)"
      ],
      "metadata": {
        "colab": {
          "base_uri": "https://localhost:8080/"
        },
        "id": "z29qkct6YQJu",
        "outputId": "5898df10-a55c-4f4a-80d2-4c3d1c1b073d"
      },
      "execution_count": 2,
      "outputs": [
        {
          "output_type": "stream",
          "name": "stdout",
          "text": [
            "Mounted at /content/gdrive\n"
          ]
        }
      ]
    },
    {
      "cell_type": "code",
      "source": [
        "PATH_BASE = '/content/gdrive/MyDrive/Thesis Project'\n",
        "PATH_DATA = os.path.join(PATH_BASE, 'data/')\n",
        "PATH_NETWORKS = os.path.join(PATH_BASE, 'networks/')\n",
        "PATH_PLOTS = os.path.join(PATH_BASE, 'plots/')\n",
        "PATH_RESULTS = os.path.join(PATH_BASE, 'results/')\n",
        "PATH_LOGS = os.path.join(PATH_BASE, 'logs/')\n",
        "os.chdir(PATH_BASE)"
      ],
      "metadata": {
        "id": "LpmwntFMYb45"
      },
      "execution_count": 3,
      "outputs": []
    },
    {
      "cell_type": "code",
      "source": [
        "def smooth(scalars: np.ndarray, weight: float) -> np.ndarray:  # Weight between 0 and 1\n",
        "    last = scalars[0]  # First value in the plot (first timestep)\n",
        "    smoothed = list()\n",
        "    for point in scalars:\n",
        "        smoothed_val = last * weight + (1 - weight) * point  # Calculate smoothed value\n",
        "        smoothed.append(smoothed_val)                        # Save it\n",
        "        last = smoothed_val                                  # Anchor the last smoothed value\n",
        "\n",
        "    return np.array(smoothed)"
      ],
      "metadata": {
        "id": "EOjVDXLsm0sC"
      },
      "execution_count": 4,
      "outputs": []
    },
    {
      "cell_type": "code",
      "source": [
        "def sparsederror(m: np.ndarray, smoothed_mean: np.ndarray, smoothed_std: np.ndarray) -> tuple:\n",
        "    sparsed_indx = np.random.randint(3, 10)\n",
        "    mm, y, e = [], [], []\n",
        "    t = 0\n",
        "    \n",
        "    for i, j, k in zip(m, smoothed_mean, smoothed_std):\n",
        "        if t % sparsed_indx == 0:\n",
        "            mm.append(i)\n",
        "            y.append(j)\n",
        "            e.append(k)\n",
        "        t += 1\n",
        "    return np.array(mm), np.array(y), np.array(e)"
      ],
      "metadata": {
        "id": "-oNWnac-m6nf"
      },
      "execution_count": 5,
      "outputs": []
    },
    {
      "cell_type": "code",
      "source": [
        "def perf_rew_plot(data: dict, game: str):\n",
        "    plt.rcParams.update({'errorbar.capsize': 5, 'font.size': 12, 'font.family': 'Times New Roman'})\n",
        "    colors = plt.cm.winter(np.linspace(0, 1, 5))\n",
        "    plt.style.use('seaborn')\n",
        "\n",
        "    for size, v in data.items():\n",
        "        fig, ax = plt.subplots(figsize=(18,9))\n",
        "        #colors = plt.cm.jet(np.linspace(0, 1, len(v[0])))\n",
        "        for d, color in zip(v, colors):\n",
        "            dropout, x, mean_rew, std_rew = d[0], d[1], d[2], d[3]\n",
        "            dropout = dropout[0]\n",
        "            ste_rew = np.array(std_rew)/np.sqrt(len(std_rew))\n",
        "            smoothed_mean = smooth(mean_rew, .8)\n",
        "            smoothed_ste = smooth(ste_rew, .8)\n",
        "\n",
        "            ax.fill_between(np.array(x)*100, smoothed_mean-smoothed_ste, smoothed_mean+smoothed_ste, color=color, alpha=.25)\n",
        "            ax.plot(np.array(x)*100, smoothed_mean, color=color, label=\"{}% dropout\".format(int(dropout*100)), linewidth=3)\n",
        "            ax.annotate(str(round(smoothed_mean[0], 1)), xy=(x[0],smoothed_mean[0]))\n",
        "\n",
        "        ax.set_ylabel(\"average cumulative reward\")\n",
        "        ax.set_xlabel(\"mask size, %\")\n",
        "        title = \"Performance of MLP policy network ({}x{}) with second masked layer at increasing dropout rates\".format(size, size)\n",
        "        fig.suptitle(title, fontsize=12, y=.93, fontname=\"sans-serif\", fontweight=\"bold\")\n",
        "        ax.legend(loc=\"best\")\n",
        "\n",
        "        plt.savefig(os.path.join(PATH_PLOTS,game,title+\".png\"))"
      ],
      "metadata": {
        "id": "v9RxWV6wYt12"
      },
      "execution_count": 6,
      "outputs": []
    },
    {
      "cell_type": "code",
      "source": [
        "#@title\n",
        "def parse_file_name(file: str) -> tuple:\n",
        "    splitted = file.split(\".\")\n",
        "    game = splitted[0]\n",
        "    size = splitted[1].split(\"x\")[0]\n",
        "    dropout = float(file.replace(\"{}.{}x{}.dropout\".format(game, size, size), \"\")[1:][:-7])\n",
        "    return game, int(size), dropout"
      ],
      "metadata": {
        "id": "EXvPxtWpaqGd",
        "cellView": "form"
      },
      "execution_count": 7,
      "outputs": []
    },
    {
      "cell_type": "code",
      "source": [
        "def load(path: str, size:bool=False, dropout:bool=False) -> dict: # size|dropout: [[dropout|size,...], [x,...], [mean,...], [std,...]]\n",
        "    assert size ^ dropout # xor\n",
        "    data = defaultdict(list)\n",
        "    loaded = pickle.load(open(path, 'rb'))\n",
        "    x = np.arange(0., 1.05, .05, dtype=float)\n",
        "    for (game, net_size, dropout), v in loaded.items():\n",
        "        net_size = int(net_size)\n",
        "        try:\n",
        "            rew, std = v[0]\n",
        "        except:\n",
        "            rew, std = v\n",
        "        if size: data[net_size].append(np.array([[dropout]*len(x), x, rew, std]))\n",
        "        elif dropout: data[dropout].append(np.array([[net_size]*len(x), x, rew, std]))\n",
        "    return data"
      ],
      "metadata": {
        "id": "-J-VzeLxa-PF"
      },
      "execution_count": 10,
      "outputs": []
    },
    {
      "cell_type": "code",
      "source": [
        "carpole_data_size = load(os.path.join(PATH_RESULTS, 'evaluations_cartpole.pickle'), size=True)"
      ],
      "metadata": {
        "id": "TU_p76orbkI9"
      },
      "execution_count": 11,
      "outputs": []
    },
    {
      "cell_type": "code",
      "source": [
        "next(iter(carpole_data_size.items()))"
      ],
      "metadata": {
        "id": "LaEe4op37YeR"
      },
      "execution_count": null,
      "outputs": []
    },
    {
      "cell_type": "code",
      "source": [
        "perf_rew_plot(carpole_data_size, 'cartpole')"
      ],
      "metadata": {
        "id": "FfdEd8H4kvW3"
      },
      "execution_count": null,
      "outputs": []
    },
    {
      "cell_type": "code",
      "source": [
        "carpole_data_dropout = load(os.path.join(PATH_RESULTS, 'evaluations_cartpole.pickle'), dropout=True)"
      ],
      "metadata": {
        "id": "dabuCVpLlzmZ"
      },
      "execution_count": 13,
      "outputs": []
    },
    {
      "cell_type": "code",
      "source": [
        "def perf_rew_perdropout_plot(data:dict, game:str):\n",
        "    plt.rcParams.update({'errorbar.capsize': 5, 'font.size': 12, 'font.family': 'Times New Roman'})\n",
        "    colors = plt.cm.winter(np.linspace(0, 1, 4))\n",
        "    plt.style.use('seaborn')\n",
        "\n",
        "    for dropout, v in data.items():\n",
        "        fig, ax = plt.subplots(figsize=(24,12))\n",
        "        for d, color in zip(v, colors):\n",
        "            size, x, mean_rew, std_rew = d[0], d[1], d[2], d[3]\n",
        "            size = size[0]\n",
        "            ste_rew = np.array(std_rew)/np.sqrt(len(std_rew))\n",
        "            smoothed_mean = smooth(mean_rew, .7)\n",
        "            smoothed_ste = smooth(ste_rew, .7)\n",
        "\n",
        "            ax.fill_between(np.array(x)*100, smoothed_mean-smoothed_ste, smoothed_mean+smoothed_ste, color=color, alpha=.25)\n",
        "            ax.annotate(str(round(smoothed_mean[0], 1)), xy=(x[0],smoothed_mean[0]))\n",
        "            ax.plot(np.array(x)*100, smoothed_mean, color=color, label=\"{} size\".format(int(size)), linewidth=3)\n",
        "\n",
        "        title = \"Performance of MLP policy networks with second masked layer at {}% dropout\".format(dropout*100)\n",
        "        ax.set_ylabel(\"average cumulative reward\")\n",
        "        ax.set_xlabel(\"mask size, %\")\n",
        "        fig.suptitle(title, fontsize=12, y=.93, fontname=\"sans-serif\", fontweight=\"bold\")\n",
        "        ax.legend(loc=\"best\")\n",
        "\n",
        "        plt.savefig(os.path.join(PATH_PLOTS,game,title+\".png\"))"
      ],
      "metadata": {
        "id": "QA8jdjV8oMjU"
      },
      "execution_count": 15,
      "outputs": []
    },
    {
      "cell_type": "code",
      "source": [
        "perf_rew_perdropout_plot(carpole_data_dropout, 'cartpole')"
      ],
      "metadata": {
        "id": "kAOpRPjqoDh_"
      },
      "execution_count": null,
      "outputs": []
    },
    {
      "cell_type": "code",
      "source": [
        "def parse_title(title: str) -> tuple:\n",
        "    splitted = title.split(\".\")\n",
        "    game = splitted[0]\n",
        "    size = splitted[1].split(\"x\")[0]\n",
        "    dropout = float(title.split(\"_\")[1])\n",
        "    return game, size, dropout"
      ],
      "metadata": {
        "id": "ZGYU0TpKsC26"
      },
      "execution_count": 21,
      "outputs": []
    },
    {
      "cell_type": "code",
      "source": [
        "def parser_masked_title(name: str) -> tuple:\n",
        "    # CartPole-v1.128x128.dropout_0.8.mask_0.25.overtrained\n",
        "    splitted = name.split('.')\n",
        "    game = splitted[0]\n",
        "    size = splitted[1].split(\"x\")[0]\n",
        "    split_underscore = name.split('_') #CartPole-v1.128x128.dropout, 0.8.mask, 0.25.overtrained\n",
        "    dropout = split_underscore[1].replace('.mask', '')\n",
        "    mask = split_underscore[2].replace('.overtrained', '')\n",
        "    return game, size, float(dropout), float(mask)"
      ],
      "metadata": {
        "id": "ZjCuHp62vJtf"
      },
      "execution_count": 35,
      "outputs": []
    },
    {
      "cell_type": "code",
      "source": [
        "def load_further_trained_data(path_f: str) -> dict: # (size, dropout): mask, (rew, std, steps)\n",
        "    data = defaultdict(list)\n",
        "    loaded_f = pickle.load(open(path_f, 'rb'))\n",
        "\n",
        "    for name, vals in loaded_f.items():\n",
        "        game, size, dropout, mask = parser_masked_title(name)\n",
        "        (rew, std, steps) = vals[0]\n",
        "        data[int(size), dropout].append((mask, rew, std, steps))\n",
        "\n",
        "    return data"
      ],
      "metadata": {
        "id": "viH1bSYMoEul"
      },
      "execution_count": 137,
      "outputs": []
    },
    {
      "cell_type": "code",
      "source": [
        "def concat_originial_further_trained_data(data_f, data_n_size) -> dict: # (size, dropout): ([masks], [rew_original], [std_original], [rew_masked], [std_masked], [steps])\n",
        "    data_concat = defaultdict(list)\n",
        "    \"\"\"\n",
        "        data_n -- size|dropout: [[dropout|size,...], [x,...], [mean,...], [std,...]]\n",
        "    \"\"\"\n",
        "    for size, v in data_n_size.items():\n",
        "        for val in v:\n",
        "            dropout, x, mean_reward, std_reward = tuple(val)\n",
        "            d = dropout[0]\n",
        "            mean_reward_masked = mean_reward.copy()\n",
        "            std_reward_masked = std_reward.copy()\n",
        "            steps = [0]*len(x)\n",
        "            eval_f = data_f[size, d]\n",
        "            for (mask, rew, std, step) in eval_f:\n",
        "                indx = np.where(x==mask)\n",
        "                indx=indx[0][0]\n",
        "                mean_reward_masked[indx] = rew\n",
        "                std_reward_masked[indx] = std\n",
        "                steps[indx] = step\n",
        "\n",
        "            data_concat[(size, d)] = [x, mean_reward, std_reward, mean_reward_masked, std_reward_masked, steps]\n",
        "\n",
        "    return data_concat"
      ],
      "metadata": {
        "id": "kosIX4OMxeyD"
      },
      "execution_count": 144,
      "outputs": []
    },
    {
      "cell_type": "code",
      "source": [
        "carpole_data_f = load_further_trained_data(os.path.join(PATH_RESULTS, 'evaluations_overtrained_cartpole.pickle'))\n",
        "data_f_o = concat_originial_further_trained_data(carpole_data_f, carpole_data_size)"
      ],
      "metadata": {
        "id": "oHsgyfTFFW7f"
      },
      "execution_count": 145,
      "outputs": []
    },
    {
      "cell_type": "code",
      "source": [
        "def mean_recovery(data:dict, dropout:bool=False, size:bool=False) -> np.ndarray:\n",
        "    assert dropout ^ size\n",
        "    recovery = []\n",
        "    mean_steps = defaultdict(list)\n",
        "\n",
        "    for k, v in data.items():\n",
        "        s, d = k\n",
        "        steps = v[-1]\n",
        "        if dropout: mean_steps[d].append(steps)\n",
        "        elif size: mean_steps[s].append(steps)\n",
        "    for d, steps in mean_steps.items():\n",
        "        steps = np.mean(steps, axis=0)\n",
        "        recovery.append(steps)\n",
        "    return np.array(recovery)"
      ],
      "metadata": {
        "id": "EZCKZINvouxf"
      },
      "execution_count": 156,
      "outputs": []
    },
    {
      "cell_type": "code",
      "source": [
        "dropout_average = mean_recovery(data_f_o, dropout=True)\n",
        "size_average = mean_recovery(data_f_o, size=True)"
      ],
      "metadata": {
        "id": "qCgVg3mYoRWT"
      },
      "execution_count": 157,
      "outputs": []
    },
    {
      "cell_type": "code",
      "source": [
        "import seaborn as sns\n",
        "\n",
        "sns.set_theme()\n",
        "ax = sns.heatmap(dropout_average, cmap=\"YlGnBu\")\n",
        "plt.yticks([0, 1, 2, 3, 4], [0.0, 0.2, 0.4, 0.6, 0.8])\n",
        "plt.xticks(list(range(21)), np.arange(0, 105, 5))\n",
        "plt.show()"
      ],
      "metadata": {
        "colab": {
          "base_uri": "https://localhost:8080/",
          "height": 362
        },
        "id": "pwfd3cOesyYp",
        "outputId": "8cc37f4c-7531-4650-f5d1-cf4c55cfb818"
      },
      "execution_count": 162,
      "outputs": [
        {
          "output_type": "display_data",
          "data": {
            "text/plain": [
              "<Figure size 576x396 with 2 Axes>"
            ],
            "image/png": "[encoded data removed]"
          },
          "metadata": {}
        }
      ]
    },
    {
      "cell_type": "code",
      "source": [
        "sns.set_theme()\n",
        "ax = sns.heatmap(size_average, cmap=\"YlGnBu\")\n",
        "plt.yticks([0, 1, 2, 3], [128, 256, 512, 1024])\n",
        "plt.xticks(list(range(21)), np.arange(0, 105, 5))\n",
        "plt.show()"
      ],
      "metadata": {
        "colab": {
          "base_uri": "https://localhost:8080/",
          "height": 363
        },
        "id": "iTiwKyPAvCSs",
        "outputId": "fc9865b9-dc2d-4d19-ddad-69ba2d563a44"
      },
      "execution_count": 164,
      "outputs": [
        {
          "output_type": "display_data",
          "data": {
            "text/plain": [
              "<Figure size 576x396 with 2 Axes>"
            ],
            "image/png": "[encoded data removed]"
          },
          "metadata": {}
        }
      ]
    },
    {
      "cell_type": "code",
      "source": [
        "def c_variance(data:dict, dropout:bool=False, size:bool=False) -> np.ndarray:\n",
        "    assert dropout ^ size\n",
        "    recovery = []\n",
        "    mean_steps = defaultdict(list)\n",
        "\n",
        "    for k, v in data.items():\n",
        "        s, d = k\n",
        "        steps = v[-1]\n",
        "        if dropout: mean_steps[d].append(steps)\n",
        "        elif size: mean_steps[s].append(steps)\n",
        "    for d, steps in mean_steps.items():\n",
        "        mean = np.mean(steps, axis=0)\n",
        "        std = np.std(steps, axis=0)\n",
        "        recovery.append(std/mean)\n",
        "    return np.array(recovery)\n",
        "\n",
        "c_variance_dropout = c_variance(data_f_o, dropout=True)\n",
        "\n",
        "sns.set_theme()\n",
        "ax = sns.heatmap(c_variance_dropout, cmap=\"YlGnBu\")\n",
        "plt.yticks([0, 1, 2, 3, 4], [0.0, 0.2, 0.4, 0.6, 0.8])\n",
        "plt.xticks(list(range(21)), np.arange(0, 105, 5))\n",
        "plt.show()"
      ],
      "metadata": {
        "colab": {
          "base_uri": "https://localhost:8080/",
          "height": 397
        },
        "id": "V0uI9-Pi68De",
        "outputId": "62585d38-bc05-4e07-9eda-c9fd763aebff"
      },
      "execution_count": 167,
      "outputs": [
        {
          "output_type": "stream",
          "name": "stderr",
          "text": [
            "/usr/local/lib/python3.7/dist-packages/ipykernel_launcher.py:14: RuntimeWarning: invalid value encountered in true_divide\n",
            "  \n"
          ]
        },
        {
          "output_type": "display_data",
          "data": {
            "text/plain": [
              "<Figure size 576x396 with 2 Axes>"
            ],
            "image/png": "[encoded data removed]"
          },
          "metadata": {}
        }
      ]
    },
    {
      "cell_type": "code",
      "source": [
        "c_variance_size = c_variance(data_f_o, size=True)\n",
        "\n",
        "sns.set_theme()\n",
        "ax = sns.heatmap(c_variance_size, cmap=\"YlGnBu\")\n",
        "plt.yticks([0, 1, 2, 3], [128, 256, 512, 1024])\n",
        "plt.xticks(list(range(21)), np.arange(0, 105, 5))\n",
        "plt.show()"
      ],
      "metadata": {
        "colab": {
          "base_uri": "https://localhost:8080/",
          "height": 398
        },
        "id": "gYLKRW1P6-pc",
        "outputId": "24e3e638-f364-4806-c38c-52a8cb9a22a0"
      },
      "execution_count": 169,
      "outputs": [
        {
          "output_type": "stream",
          "name": "stderr",
          "text": [
            "/usr/local/lib/python3.7/dist-packages/ipykernel_launcher.py:14: RuntimeWarning: invalid value encountered in true_divide\n",
            "  \n"
          ]
        },
        {
          "output_type": "display_data",
          "data": {
            "text/plain": [
              "<Figure size 576x396 with 2 Axes>"
            ],
            "image/png": "[encoded data removed]"
          },
          "metadata": {}
        }
      ]
    }
  ]
}