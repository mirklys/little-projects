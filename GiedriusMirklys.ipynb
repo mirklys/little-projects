{
  "nbformat": 4,
  "nbformat_minor": 0,
  "metadata": {
    "kernelspec": {
      "display_name": "Python 3",
      "language": "python",
      "name": "python3"
    },
    "language_info": {
      "codemirror_mode": {
        "name": "ipython",
        "version": 3
      },
      "file_extension": ".py",
      "mimetype": "text/x-python",
      "name": "python",
      "nbconvert_exporter": "python",
      "pygments_lexer": "ipython3",
      "version": "3.8.6"
    },
    "colab": {
      "name": "GiedriusMirklys.ipynb",
      "provenance": [],
      "collapsed_sections": []
    },
    "accelerator": "TPU"
  },
  "cells": [
    {
      "cell_type": "markdown",
      "metadata": {
        "id": "V9C1TxEok6m1"
      },
      "source": [
        "Found something on ML done in my second year"
      ]
    },
    {
      "cell_type": "markdown",
      "metadata": {
        "id": "ZflsEm-_hZ3f"
      },
      "source": [
        "# Classification Task"
      ]
    },
    {
      "cell_type": "code",
      "metadata": {
        "id": "i0dPaoI1Oxw7"
      },
      "source": [
        "import warnings\n",
        "warnings.filterwarnings(\"ignore\")\n",
        "import numpy as np"
      ],
      "execution_count": null,
      "outputs": []
    },
    {
      "cell_type": "code",
      "metadata": {
        "id": "KE5iY5ZWOxxA"
      },
      "source": [
        "data = np.load('2041025_face.npz')\n",
        "X_train = data['X_train']\n",
        "y_train = data['y_train']\n",
        "X_valid = data['X_valid']\n",
        "y_valid = data['y_valid']\n",
        "X_test = data['X_test']\n",
        "y_test = data['y_test']"
      ],
      "execution_count": null,
      "outputs": []
    },
    {
      "cell_type": "code",
      "metadata": {
        "colab": {
          "base_uri": "https://localhost:8080/"
        },
        "id": "t9OX03e6OxxE",
        "outputId": "de27c7ce-d25b-4e7f-ce45-5d5f548a69e2"
      },
      "source": [
        "X_train"
      ],
      "execution_count": null,
      "outputs": [
        {
          "output_type": "execute_result",
          "data": {
            "text/plain": [
              "array([[100,  96,  92, ...,   2,  14,   8],\n",
              "       [ 56,  93,  96, ...,  10,  13,  10],\n",
              "       [ 97, 101, 104, ..., 150,  86,  16],\n",
              "       ...,\n",
              "       [145, 161, 172, ..., 127,  42,  87],\n",
              "       [148, 166, 177, ..., 185, 185,  74],\n",
              "       [136, 155, 165, ..., 123, 145, 143]])"
            ]
          },
          "metadata": {
            "tags": []
          },
          "execution_count": 3
        }
      ]
    },
    {
      "cell_type": "code",
      "metadata": {
        "colab": {
          "base_uri": "https://localhost:8080/"
        },
        "id": "DJnEONH0OxxK",
        "outputId": "73550dfa-750d-4cdb-f6aa-54c4a7d1a714"
      },
      "source": [
        "y_train"
      ],
      "execution_count": null,
      "outputs": [
        {
          "output_type": "execute_result",
          "data": {
            "text/plain": [
              "array([0, 0, 1, ..., 0, 0, 0])"
            ]
          },
          "metadata": {
            "tags": []
          },
          "execution_count": 4
        }
      ]
    },
    {
      "cell_type": "markdown",
      "metadata": {
        "id": "RSCXGW9hhlAF"
      },
      "source": [
        "## 1.2"
      ]
    },
    {
      "cell_type": "markdown",
      "metadata": {
        "id": "9Qpbx_6Ph5Wo"
      },
      "source": [
        "Exploratory Data Analysis Tasks"
      ]
    },
    {
      "cell_type": "markdown",
      "metadata": {
        "id": "rRphKUhIhz9l"
      },
      "source": [
        "### 1.2.1"
      ]
    },
    {
      "cell_type": "code",
      "metadata": {
        "id": "iKg8ve3gOxxN"
      },
      "source": [
        "emotion_zero = np.argwhere(y_train == 0)\n",
        "emotion_one = np.argwhere(y_train == 1)\n",
        "emotion_two = np.argwhere(y_train == 2)"
      ],
      "execution_count": null,
      "outputs": []
    },
    {
      "cell_type": "code",
      "metadata": {
        "id": "Z0yuwVs5OxxQ"
      },
      "source": [
        "image_zero = X_train[emotion_zero[int(np.random.rand()*len(emotion_zero[:-2]))]]\n",
        "image_one = X_train[emotion_one[0]]\n",
        "image_two = X_train[emotion_two[0]]\n",
        "image_size = int(np.sqrt(image_zero[0].shape[0]))\n",
        "\n",
        "image_zero = np.reshape(image_zero, newshape=(image_size, image_size))\n",
        "image_two = np.reshape(image_two, newshape=(image_size, image_size))\n",
        "image_one = np.reshape(image_one, newshape=(image_size, image_size))"
      ],
      "execution_count": null,
      "outputs": []
    },
    {
      "cell_type": "code",
      "metadata": {
        "colab": {
          "base_uri": "https://localhost:8080/",
          "height": 195
        },
        "id": "zxRvVgU_OxxV",
        "outputId": "8cf7aefb-8dfc-48c6-8ac3-45ea2cfad958"
      },
      "source": [
        "import matplotlib.image as mpimg\n",
        "import matplotlib.pyplot as plt\n",
        "fig, axs = plt.subplots(figsize=(8, 8), ncols=3)\n",
        "axs[0].imshow(image_zero)\n",
        "axs[0].set_title(\"Category 0\")\n",
        "axs[1].imshow(image_one)\n",
        "axs[1].set_title(\"Category 1\")\n",
        "axs[2].imshow(image_two)\n",
        "axs[2].set_title(\"Category 2\")\n",
        "plt.show()"
      ],
      "execution_count": null,
      "outputs": [
        {
          "output_type": "display_data",
          "data": {
            "image/png": "[encoded data removed]",
            "text/plain": [
              "<Figure size 576x576 with 3 Axes>"
            ]
          },
          "metadata": {
            "tags": [],
            "needs_background": "light"
          }
        }
      ]
    },
    {
      "cell_type": "code",
      "metadata": {
        "id": "LFf4zOkgOxxb"
      },
      "source": [
        "def reshape_images(X, indices):\n",
        "    reshaped_images = []\n",
        "    for i in indices:\n",
        "        image = np.reshape(X[i], newshape=(image_size, image_size))\n",
        "        reshaped_images.append(image)\n",
        "    return np.array(reshaped_images)"
      ],
      "execution_count": null,
      "outputs": []
    },
    {
      "cell_type": "code",
      "metadata": {
        "id": "0F3Qg7KOOxxe"
      },
      "source": [
        "emotion_zero_train = reshape_images(X_train, np.argwhere(y_train == 0))\n",
        "emotion_one_train = reshape_images(X_train, np.argwhere(y_train == 1))\n",
        "emotion_two_train = reshape_images(X_train, np.argwhere(y_train == 2))\n",
        "\n",
        "emotion_zero_valid = reshape_images(X_valid, np.argwhere(y_valid == 0))\n",
        "emotion_one_valid = reshape_images(X_valid, np.argwhere(y_valid == 1))\n",
        "emotion_two_valid = reshape_images(X_valid, np.argwhere(y_valid == 2))\n",
        "\n",
        "emotion_zero_test = reshape_images(X_test, np.argwhere(y_test == 0))\n",
        "emotion_one_test = reshape_images(X_test, np.argwhere(y_test == 1))\n",
        "emotion_two_test = reshape_images(X_test, np.argwhere(y_test == 2))"
      ],
      "execution_count": null,
      "outputs": []
    },
    {
      "cell_type": "markdown",
      "metadata": {
        "id": "x63ibjk0iBcv"
      },
      "source": [
        "### 1.2.2"
      ]
    },
    {
      "cell_type": "code",
      "metadata": {
        "colab": {
          "base_uri": "https://localhost:8080/"
        },
        "id": "6GHPzITJOxxj",
        "outputId": "f72581a2-eebd-4bd5-991f-b665d5a0cd13"
      },
      "source": [
        "from collections import Counter\n",
        "labels = np.append(y_train, values=[*y_test, *y_valid])\n",
        "#labels = np.array([str(i) for i in labels])\n",
        "labels = Counter(labels)\n",
        "labels\n",
        "list(labels.values())"
      ],
      "execution_count": null,
      "outputs": [
        {
          "output_type": "execute_result",
          "data": {
            "text/plain": [
              "[1202, 457, 758]"
            ]
          },
          "metadata": {
            "tags": []
          },
          "execution_count": 10
        }
      ]
    },
    {
      "cell_type": "code",
      "metadata": {
        "colab": {
          "base_uri": "https://localhost:8080/",
          "height": 270
        },
        "id": "Mb6BW78tOxxp",
        "outputId": "78ece488-9a28-4cf8-cfba-cf95b7b11857"
      },
      "source": [
        "fig,ax = plt.subplots(1)\n",
        "vals = list(labels.values())\n",
        "ax.bar(labels.keys(), labels.values())\n",
        "ax.set_xticklabels([])\n",
        "for i in range(0, 3):\n",
        "    ax.annotate(str(i), xy=(i, vals[i]), ha='center', va='bottom')\n",
        "plt.title(\"Distibution of Faces per Category\")\n",
        "plt.ylabel(\"Number of images\")\n",
        "plt.show()\n"
      ],
      "execution_count": null,
      "outputs": [
        {
          "output_type": "display_data",
          "data": {
            "image/png": "[encoded data removed]",
            "text/plain": [
              "<Figure size 432x288 with 1 Axes>"
            ]
          },
          "metadata": {
            "tags": [],
            "needs_background": "light"
          }
        }
      ]
    },
    {
      "cell_type": "markdown",
      "metadata": {
        "id": "t4KwxHM5jBwJ"
      },
      "source": [
        "## 1.3"
      ]
    },
    {
      "cell_type": "markdown",
      "metadata": {
        "id": "cjjYW2Q7jCLQ"
      },
      "source": [
        "Classification Tasks"
      ]
    },
    {
      "cell_type": "markdown",
      "metadata": {
        "id": "QPpxjP44jFy6"
      },
      "source": [
        "### 1.3.1"
      ]
    },
    {
      "cell_type": "code",
      "metadata": {
        "colab": {
          "base_uri": "https://localhost:8080/"
        },
        "id": "J-gRXJQxOxxt",
        "outputId": "a317c4c8-8a9b-411b-a3a3-3ef7b7323fa4"
      },
      "source": [
        "from sklearn.neighbors import KNeighborsClassifier\n",
        "knn_1 = KNeighborsClassifier(n_neighbors=1)\n",
        "knn_1.fit(X_train, y_train)\n",
        "accuracy = knn_1.score(X_valid, y_valid)\n",
        "accuracy"
      ],
      "execution_count": null,
      "outputs": [
        {
          "output_type": "execute_result",
          "data": {
            "text/plain": [
              "0.746938775510204"
            ]
          },
          "metadata": {
            "tags": []
          },
          "execution_count": 12
        }
      ]
    },
    {
      "cell_type": "code",
      "metadata": {
        "colab": {
          "base_uri": "https://localhost:8080/",
          "height": 662
        },
        "id": "etv-xN3aOxxw",
        "outputId": "5cfa2fa9-496d-40b7-803e-9d218cf40837"
      },
      "source": [
        "pred_labels = knn_1.predict(X_test)\n",
        "missclassified_indices = np.argwhere(y_test!=pred_labels)\n",
        "m, u, r = 0, 0, 0\n",
        "fig, axs = plt.subplots(figsize=(8, 11), nrows=3, ncols=2)\n",
        "for i, indx in enumerate(missclassified_indices):\n",
        "    image = np.reshape(X_test[indx], newshape=(image_size, image_size))\n",
        "    if y_test[indx][0] == 0 and m < 2:\n",
        "        axs[0][m].imshow(image)\n",
        "        axs[0][m].set_title(\"Real emotion {}. Predicted emotion {}\".format(y_test[indx][0], pred_labels[indx][0]))\n",
        "        m+=1\n",
        "    if y_test[indx][0] == 1 and u < 2:\n",
        "        axs[1][u].imshow(image)\n",
        "        axs[1][u].set_title(\"Real emotion {}. Predicted emotion {}\".format(y_test[indx][0], pred_labels[indx][0]))\n",
        "        u += 1\n",
        "    if y_test[indx][0] == 2 and r < 2:\n",
        "        axs[2][r].imshow(image)\n",
        "        axs[2][r].set_title(\"Real emotion {}. Predicted emotion {}\".format(y_test[indx][0], pred_labels[indx][0]))\n",
        "        r += 1\n",
        "\n",
        "plt.show()"
      ],
      "execution_count": null,
      "outputs": [
        {
          "output_type": "display_data",
          "data": {
            "image/png": "[encoded data removed]",
            "text/plain": [
              "<Figure size 576x792 with 6 Axes>"
            ]
          },
          "metadata": {
            "tags": [],
            "needs_background": "light"
          }
        }
      ]
    },
    {
      "cell_type": "code",
      "metadata": {
        "colab": {
          "base_uri": "https://localhost:8080/"
        },
        "id": "CTHSJsRsOxx2",
        "outputId": "c48c4b9e-fe02-4a9c-dd36-edf6d36f518f"
      },
      "source": [
        "from sklearn.metrics import classification_report\n",
        "report = classification_report(y_test, pred_labels)\n",
        "print(report)"
      ],
      "execution_count": null,
      "outputs": [
        {
          "output_type": "stream",
          "text": [
            "              precision    recall  f1-score   support\n",
            "\n",
            "           0       0.78      0.93      0.85       122\n",
            "           1       0.68      0.42      0.52        40\n",
            "           2       0.84      0.73      0.78        64\n",
            "\n",
            "    accuracy                           0.78       226\n",
            "   macro avg       0.77      0.70      0.72       226\n",
            "weighted avg       0.78      0.78      0.77       226\n",
            "\n"
          ],
          "name": "stdout"
        }
      ]
    },
    {
      "cell_type": "markdown",
      "metadata": {
        "id": "3cpepSzpjMJI"
      },
      "source": [
        "### 1.3.2"
      ]
    },
    {
      "cell_type": "code",
      "metadata": {
        "colab": {
          "base_uri": "https://localhost:8080/",
          "height": 282
        },
        "id": "WEcPOcOGOxx6",
        "outputId": "dd935cad-e3cd-4a56-8b68-57bf03eef257"
      },
      "source": [
        "ks = []\n",
        "for k in range(2, 20):\n",
        "    knn = KNeighborsClassifier(n_neighbors=k).fit(X_train, y_train)\n",
        "    new_accuracy = knn.score(X_valid, y_valid)\n",
        "    ks.append(new_accuracy)\n",
        "plt.plot(range(2, 20), ks)"
      ],
      "execution_count": null,
      "outputs": [
        {
          "output_type": "execute_result",
          "data": {
            "text/plain": [
              "[<matplotlib.lines.Line2D at 0x7f8f2123a7d0>]"
            ]
          },
          "metadata": {
            "tags": []
          },
          "execution_count": 15
        },
        {
          "output_type": "display_data",
          "data": {
            "image/png": "[encoded data removed]",
            "text/plain": [
              "<Figure size 432x288 with 1 Axes>"
            ]
          },
          "metadata": {
            "tags": [],
            "needs_background": "light"
          }
        }
      ]
    },
    {
      "cell_type": "code",
      "metadata": {
        "colab": {
          "base_uri": "https://localhost:8080/"
        },
        "id": "gITj0EfiOxx9",
        "outputId": "34f81ca1-c235-4a54-9ea7-7633e40bea70"
      },
      "source": [
        "l = range(2, 20)\n",
        "max_k = l[np.argmax(ks)]\n",
        "ks[max_k-1] # second to the largests"
      ],
      "execution_count": null,
      "outputs": [
        {
          "output_type": "execute_result",
          "data": {
            "text/plain": [
              "0.7020408163265306"
            ]
          },
          "metadata": {
            "tags": []
          },
          "execution_count": 16
        }
      ]
    },
    {
      "cell_type": "code",
      "metadata": {
        "colab": {
          "base_uri": "https://localhost:8080/"
        },
        "id": "Qb09RvROOxyA",
        "outputId": "45c43550-fdc2-4e61-e4eb-98bd928b002b"
      },
      "source": [
        "knn_best = KNeighborsClassifier(n_neighbors=max_k-1).fit(X_train, y_train)\n",
        "y_predict = knn_best.predict(X_test)\n",
        "report = classification_report(y_test, y_predict)\n",
        "print(report)"
      ],
      "execution_count": null,
      "outputs": [
        {
          "output_type": "stream",
          "text": [
            "              precision    recall  f1-score   support\n",
            "\n",
            "           0       0.74      0.99      0.85       122\n",
            "           1       0.71      0.38      0.49        40\n",
            "           2       0.93      0.59      0.72        64\n",
            "\n",
            "    accuracy                           0.77       226\n",
            "   macro avg       0.79      0.65      0.69       226\n",
            "weighted avg       0.79      0.77      0.75       226\n",
            "\n"
          ],
          "name": "stdout"
        }
      ]
    },
    {
      "cell_type": "markdown",
      "metadata": {
        "id": "XnSVABlFjZpm"
      },
      "source": [
        "### 1.3.3"
      ]
    },
    {
      "cell_type": "code",
      "metadata": {
        "id": "1UR8ex4UOxyE"
      },
      "source": [
        "#resampling the data\n",
        "from imblearn.under_sampling import RandomUnderSampler\n",
        "undersample = RandomUnderSampler(replacement=False)\n",
        "X_train_resampled, y_train_resampled = undersample.fit_resample(X_train, y_train)\n",
        "X_test_resampled, y_test_resampled = undersample.fit_resample(X_test, y_test)\n",
        "X_valid_resampled, y_valid_resampled = undersample.fit_resample(X_valid, y_valid)"
      ],
      "execution_count": null,
      "outputs": []
    },
    {
      "cell_type": "code",
      "metadata": {
        "colab": {
          "base_uri": "https://localhost:8080/"
        },
        "id": "qX4M7dmoOxyI",
        "outputId": "893cb984-be52-4904-fbe1-687a70b55bb8"
      },
      "source": [
        "from sklearn.naive_bayes import MultinomialNB\n",
        "accuracy = 0\n",
        "best_e = 0\n",
        "mnb = MultinomialNB().fit(X_train_resampled, y_train_resampled)\n",
        "acc = mnb.score(X_valid_resampled, y_valid_resampled)\n",
        "acc"
      ],
      "execution_count": null,
      "outputs": [
        {
          "output_type": "execute_result",
          "data": {
            "text/plain": [
              "0.7555555555555555"
            ]
          },
          "metadata": {
            "tags": []
          },
          "execution_count": 19
        }
      ]
    },
    {
      "cell_type": "code",
      "metadata": {
        "colab": {
          "base_uri": "https://localhost:8080/"
        },
        "id": "roIoJon7OxyN",
        "outputId": "0f8eeacf-2231-4b01-d4a9-8d2c3d17ed01"
      },
      "source": [
        "y_predict = mnb.predict(X_test)\n",
        "report = classification_report(y_test, y_predict)\n",
        "print(report)"
      ],
      "execution_count": null,
      "outputs": [
        {
          "output_type": "stream",
          "text": [
            "              precision    recall  f1-score   support\n",
            "\n",
            "           0       0.90      0.78      0.83       122\n",
            "           1       0.44      0.70      0.54        40\n",
            "           2       0.79      0.70      0.74        64\n",
            "\n",
            "    accuracy                           0.74       226\n",
            "   macro avg       0.71      0.73      0.71       226\n",
            "weighted avg       0.79      0.74      0.76       226\n",
            "\n"
          ],
          "name": "stdout"
        }
      ]
    },
    {
      "cell_type": "code",
      "metadata": {
        "colab": {
          "base_uri": "https://localhost:8080/"
        },
        "id": "Vf5qfInTOxyQ",
        "outputId": "d993bb97-1060-4a18-dacd-a854f1d2be16"
      },
      "source": [
        "from sklearn.neural_network import MLPClassifier\n",
        "from itertools import product\n",
        "accuracy = 0\n",
        "hp = (..., ...)\n",
        "for solver, alpha in product(['lbfgs', 'sgd', 'adam'], np.arange(0.0001, 0.01, 0.0005)):\n",
        "    MLP = MLPClassifier(solver=solver, alpha=alpha, max_iter=500).fit(X_train, y_train)\n",
        "    acc = MLP.score(X_valid_resampled, y_valid_resampled)\n",
        "    if acc == accuracy:\n",
        "        break\n",
        "    elif acc > accuracy:\n",
        "        hp = (solver, alpha)\n",
        "        accuracy = acc\n",
        "print(accuracy)"
      ],
      "execution_count": null,
      "outputs": [
        {
          "output_type": "stream",
          "text": [
            "0.8888888888888888\n"
          ],
          "name": "stdout"
        }
      ]
    },
    {
      "cell_type": "code",
      "metadata": {
        "colab": {
          "base_uri": "https://localhost:8080/"
        },
        "id": "IwScE3gAOxyT",
        "outputId": "3d3011d1-cf73-4dbc-ddc6-d3ab44979438"
      },
      "source": [
        "hp"
      ],
      "execution_count": null,
      "outputs": [
        {
          "output_type": "execute_result",
          "data": {
            "text/plain": [
              "('adam', 0.006600000000000001)"
            ]
          },
          "metadata": {
            "tags": []
          },
          "execution_count": 22
        }
      ]
    },
    {
      "cell_type": "code",
      "metadata": {
        "colab": {
          "base_uri": "https://localhost:8080/"
        },
        "id": "me6NAsnWOxyW",
        "outputId": "d690e3c8-2154-4f2e-8ae0-4ce10049dd53"
      },
      "source": [
        "MLP = MLPClassifier(solver=hp[0], alpha=hp[1], max_iter=500).fit(X_train, y_train)\n",
        "y_predict = MLP.predict(X_test)\n",
        "report = classification_report(y_test, y_predict)\n",
        "print(report)"
      ],
      "execution_count": null,
      "outputs": [
        {
          "output_type": "stream",
          "text": [
            "              precision    recall  f1-score   support\n",
            "\n",
            "           0       0.92      0.89      0.91       122\n",
            "           1       0.65      0.75      0.70        40\n",
            "           2       0.84      0.81      0.83        64\n",
            "\n",
            "    accuracy                           0.85       226\n",
            "   macro avg       0.80      0.82      0.81       226\n",
            "weighted avg       0.85      0.85      0.85       226\n",
            "\n"
          ],
          "name": "stdout"
        }
      ]
    },
    {
      "cell_type": "code",
      "metadata": {
        "colab": {
          "base_uri": "https://localhost:8080/"
        },
        "id": "twRXcozXOxyZ",
        "outputId": "0466e79e-030e-4a38-db06-9cb09a492dad"
      },
      "source": [
        "from sklearn.linear_model import LogisticRegression\n",
        "hp = (..., ...)\n",
        "accuracy = 0\n",
        "for solver, c in product(['lbfgs', 'sag', 'saga'], np.arange(0.01, 1.2, 0.05)):\n",
        "    lr = LogisticRegression(solver=solver, C=c, max_iter=500, multi_class='multinomial').fit(X_train_resampled, y_train_resampled)\n",
        "    acc = lr.score(X_valid_resampled, y_valid_resampled)\n",
        "    if acc == accuracy:\n",
        "        break\n",
        "    elif acc > accuracy:\n",
        "        hp = (solver, c)\n",
        "        accuracy = acc\n",
        "print(accuracy)"
      ],
      "execution_count": null,
      "outputs": [
        {
          "output_type": "stream",
          "text": [
            "0.8814814814814815\n"
          ],
          "name": "stdout"
        }
      ]
    },
    {
      "cell_type": "code",
      "metadata": {
        "colab": {
          "base_uri": "https://localhost:8080/"
        },
        "id": "q28f-rwwOxyb",
        "outputId": "7a0f5444-1f28-4dd0-bcc5-697276083dc0"
      },
      "source": [
        "hp"
      ],
      "execution_count": null,
      "outputs": [
        {
          "output_type": "execute_result",
          "data": {
            "text/plain": [
              "('sag', 0.01)"
            ]
          },
          "metadata": {
            "tags": []
          },
          "execution_count": 25
        }
      ]
    },
    {
      "cell_type": "code",
      "metadata": {
        "colab": {
          "base_uri": "https://localhost:8080/"
        },
        "id": "UKeGWa2uOxyd",
        "outputId": "e5c6f125-108d-4fa3-fd56-5f15571684cc"
      },
      "source": [
        "lr = LogisticRegression(solver=hp[0], C=hp[1], max_iter=500, multi_class='multinomial').fit(X_train_resampled, y_train_resampled)\n",
        "y_predict = lr.predict(X_test_resampled)\n",
        "report = classification_report(y_test_resampled, y_predict)\n",
        "print(report)"
      ],
      "execution_count": null,
      "outputs": [
        {
          "output_type": "stream",
          "text": [
            "              precision    recall  f1-score   support\n",
            "\n",
            "           0       0.88      0.90      0.89        40\n",
            "           1       0.95      0.90      0.92        40\n",
            "           2       0.90      0.93      0.91        40\n",
            "\n",
            "    accuracy                           0.91       120\n",
            "   macro avg       0.91      0.91      0.91       120\n",
            "weighted avg       0.91      0.91      0.91       120\n",
            "\n"
          ],
          "name": "stdout"
        }
      ]
    },
    {
      "cell_type": "code",
      "metadata": {
        "colab": {
          "base_uri": "https://localhost:8080/"
        },
        "id": "F52nykqcOxyf",
        "outputId": "36f9dd11-8b08-4988-dda0-029db9d633dc"
      },
      "source": [
        "from sklearn.tree import DecisionTreeClassifier\n",
        "tree = DecisionTreeClassifier(criterion='entropy', ccp_alpha=0.00000000000001).fit(X_train_resampled, y_train_resampled)\n",
        "acc = tree.score(X_valid_resampled, y_valid_resampled)\n",
        "print(acc)"
      ],
      "execution_count": null,
      "outputs": [
        {
          "output_type": "stream",
          "text": [
            "0.6962962962962963\n"
          ],
          "name": "stdout"
        }
      ]
    },
    {
      "cell_type": "code",
      "metadata": {
        "colab": {
          "base_uri": "https://localhost:8080/"
        },
        "id": "j_2g2tEGOxyi",
        "outputId": "48de81b4-f3d0-4c80-fed8-68490d61a508"
      },
      "source": [
        "y_predict = tree.predict(X_test_resampled)\n",
        "report = classification_report(y_test_resampled, y_predict)\n",
        "print(report)"
      ],
      "execution_count": null,
      "outputs": [
        {
          "output_type": "stream",
          "text": [
            "              precision    recall  f1-score   support\n",
            "\n",
            "           0       0.66      0.68      0.67        40\n",
            "           1       0.57      0.57      0.57        40\n",
            "           2       0.62      0.60      0.61        40\n",
            "\n",
            "    accuracy                           0.62       120\n",
            "   macro avg       0.62      0.62      0.62       120\n",
            "weighted avg       0.62      0.62      0.62       120\n",
            "\n"
          ],
          "name": "stdout"
        }
      ]
    },
    {
      "cell_type": "code",
      "metadata": {
        "id": "Rw4GGf4dOxyn"
      },
      "source": [
        "from sklearn.decomposition import PCA\n",
        "pca = PCA(n_components=2)\n",
        "X_train_reduced = pca.fit_transform(X_train_resampled)\n",
        "X_test_reduced = pca.fit_transform(X_test_resampled)\n",
        "X_valid_reduced = pca.fit_transform(X_valid_resampled)"
      ],
      "execution_count": null,
      "outputs": []
    },
    {
      "cell_type": "code",
      "metadata": {
        "tags": [],
        "id": "JfTxWj2mOxys"
      },
      "source": [
        "from sklearn.ensemble import GradientBoostingClassifier\n",
        "hp = ...\n",
        "accuracy = 0\n",
        "for lrate in np.arange(0.01, 5, 0.5):\n",
        "    gbc = GradientBoostingClassifier(loss='deviance', learning_rate=lrate).fit(X_train_reduced, y_train_resampled)\n",
        "    acc = gbc.score(X_valid_reduced, y_valid_resampled)\n",
        "    if acc > accuracy:\n",
        "        hp = lrate\n",
        "        accuracy = acc"
      ],
      "execution_count": null,
      "outputs": []
    },
    {
      "cell_type": "code",
      "metadata": {
        "colab": {
          "base_uri": "https://localhost:8080/"
        },
        "id": "xnju1Nj6Oxyv",
        "outputId": "81f92018-82b0-4ea5-ecd8-2129a4ef3341"
      },
      "source": [
        "hp"
      ],
      "execution_count": null,
      "outputs": [
        {
          "output_type": "execute_result",
          "data": {
            "text/plain": [
              "0.01"
            ]
          },
          "metadata": {
            "tags": []
          },
          "execution_count": 31
        }
      ]
    },
    {
      "cell_type": "code",
      "metadata": {
        "colab": {
          "base_uri": "https://localhost:8080/"
        },
        "id": "zj3Ai_mMOxyx",
        "outputId": "416c93d4-04c0-409b-cafc-356280f5ffd7"
      },
      "source": [
        "gbc = GradientBoostingClassifier(loss='deviance', learning_rate=hp).fit(X_train_reduced, y_train_resampled)\n",
        "y_predict = gbc.predict(X_test_reduced)\n",
        "report = classification_report(y_test_resampled, y_predict)\n",
        "print(report)"
      ],
      "execution_count": null,
      "outputs": [
        {
          "output_type": "stream",
          "text": [
            "              precision    recall  f1-score   support\n",
            "\n",
            "           0       0.44      0.28      0.34        40\n",
            "           1       0.35      0.70      0.46        40\n",
            "           2       0.14      0.05      0.07        40\n",
            "\n",
            "    accuracy                           0.34       120\n",
            "   macro avg       0.31      0.34      0.29       120\n",
            "weighted avg       0.31      0.34      0.29       120\n",
            "\n"
          ],
          "name": "stdout"
        }
      ]
    },
    {
      "cell_type": "code",
      "metadata": {
        "tags": [],
        "id": "kO7n0qbwOxy0"
      },
      "source": [
        "from sklearn.pipeline import Pipeline\n",
        "from sklearn.preprocessing import MinMaxScaler\n",
        "mnb_pip = Pipeline([\n",
        "    ('scaler', MinMaxScaler()),\n",
        "    ('multinomial', MultinomialNB())\n",
        "])\n",
        "mlp = MLPClassifier(solver = 'lbfgs', alpha = 0.0036, max_iter=1000)\n",
        "logreg = LogisticRegression(solver='lbfgs', C=0.060000000000000005, multi_class='multinomial')\n",
        "dtree = DecisionTreeClassifier(criterion='entropy', ccp_alpha=1e-14)"
      ],
      "execution_count": null,
      "outputs": []
    },
    {
      "cell_type": "code",
      "metadata": {
        "id": "mS0IjD9mfq3g"
      },
      "source": [
        "from sklearn.ensemble import VotingClassifier\n",
        "\n",
        "classifiers = [('mnb_pip', mnb_pip), ('mlp', mlp), ('logreg', logreg), ('dtree', dtree)]\n",
        "vc = VotingClassifier(estimators=classifiers, voting='soft').fit(X_train_resampled, y_train_resampled)"
      ],
      "execution_count": null,
      "outputs": []
    },
    {
      "cell_type": "code",
      "metadata": {
        "colab": {
          "base_uri": "https://localhost:8080/"
        },
        "id": "zHhWLJn8Oxy4",
        "outputId": "0e492912-d480-4cb6-ed73-0da60c941680"
      },
      "source": [
        "y_predict = vc.predict(X_test_resampled)\n",
        "report = classification_report(y_test_resampled, y_predict)\n",
        "print(report)"
      ],
      "execution_count": null,
      "outputs": [
        {
          "output_type": "stream",
          "text": [
            "              precision    recall  f1-score   support\n",
            "\n",
            "           0       0.84      0.78      0.81        40\n",
            "           1       0.91      0.75      0.82        40\n",
            "           2       0.72      0.90      0.80        40\n",
            "\n",
            "    accuracy                           0.81       120\n",
            "   macro avg       0.82      0.81      0.81       120\n",
            "weighted avg       0.82      0.81      0.81       120\n",
            "\n"
          ],
          "name": "stdout"
        }
      ]
    },
    {
      "cell_type": "markdown",
      "metadata": {
        "id": "Tdpzb9flOxy7"
      },
      "source": [
        "# Regression Task"
      ]
    },
    {
      "cell_type": "code",
      "metadata": {
        "id": "2eOhEqL9Oxy9"
      },
      "source": [
        "import pandas as pd\n",
        "\n",
        "data_kanga = np.transpose(pd.read_csv(\"kanga.csv\").to_numpy())\n",
        "data_nose = np.transpose(pd.read_csv(\"2041025_nose.csv\").drop(\"Unnamed: 0\", axis='columns').to_numpy())"
      ],
      "execution_count": null,
      "outputs": []
    },
    {
      "cell_type": "code",
      "metadata": {
        "colab": {
          "base_uri": "https://localhost:8080/"
        },
        "id": "jOqUw-4NOxy_",
        "outputId": "056874da-ed4a-455f-ec31-52d26d3f91cc"
      },
      "source": [
        "data_kanga"
      ],
      "execution_count": null,
      "outputs": [
        {
          "output_type": "execute_result",
          "data": {
            "text/plain": [
              "array([[609, 629, 620, 564, 645, 493, 606, 660, 630, 672, 778, 616, 727,\n",
              "        810, 778, 823, 755, 710, 701, 803, 855, 838, 830, 864, 635, 565,\n",
              "        562, 580, 596, 597, 636, 559, 615, 740, 677, 675, 629, 692, 710,\n",
              "        730, 763, 686, 717, 737, 816],\n",
              "       [241, 222, 233, 207, 247, 189, 226, 240, 215, 231, 263, 220, 271,\n",
              "        284, 279, 272, 268, 278, 238, 255, 308, 281, 288, 306, 236, 204,\n",
              "        216, 225, 220, 219, 201, 213, 228, 234, 237, 217, 211, 238, 221,\n",
              "        281, 292, 251, 231, 275, 275]])"
            ]
          },
          "metadata": {
            "tags": []
          },
          "execution_count": 6
        }
      ]
    },
    {
      "cell_type": "markdown",
      "metadata": {
        "id": "b8xI5SVDjh2f"
      },
      "source": [
        "## 2.2"
      ]
    },
    {
      "cell_type": "code",
      "metadata": {
        "colab": {
          "base_uri": "https://localhost:8080/",
          "height": 295
        },
        "id": "9m-5duh9OxzB",
        "outputId": "02130096-8cec-47cb-ffc8-0c929dcb82ae"
      },
      "source": [
        "import matplotlib.pyplot as plt\n",
        "plt.scatter(data_kanga[0], data_kanga[1])\n",
        "plt.xlabel(\"nasal length (mm)\")\n",
        "plt.ylabel(\"nasal width (mm)\")\n",
        "plt.title(\"Trlationship between nasal width and length\")\n",
        "plt.show()"
      ],
      "execution_count": null,
      "outputs": [
        {
          "output_type": "display_data",
          "data": {
            "image/png": "[encoded data removed]",
            "text/plain": [
              "<Figure size 432x288 with 1 Axes>"
            ]
          },
          "metadata": {
            "tags": [],
            "needs_background": "light"
          }
        }
      ]
    },
    {
      "cell_type": "markdown",
      "metadata": {
        "id": "Xfy_l1xkjpCs"
      },
      "source": [
        "## 2.3"
      ]
    },
    {
      "cell_type": "markdown",
      "metadata": {
        "id": "Y89YBNFyjrec"
      },
      "source": [
        "Regression Tasks"
      ]
    },
    {
      "cell_type": "markdown",
      "metadata": {
        "id": "0CTW8PHgjt25"
      },
      "source": [
        "### 2.3.1"
      ]
    },
    {
      "cell_type": "code",
      "metadata": {
        "id": "Qm5jdfO1OxzE"
      },
      "source": [
        "from sklearn.model_selection import train_test_split\n",
        "X, y = data_kanga[0].reshape(-1, 1), data_kanga[1]\n",
        "X_train, X_test, y_train, y_test = train_test_split(X, y, test_size=0.1, random_state=42)"
      ],
      "execution_count": null,
      "outputs": []
    },
    {
      "cell_type": "markdown",
      "metadata": {
        "id": "bj7Ck6CMjxjw"
      },
      "source": [
        "### 2.3.2"
      ]
    },
    {
      "cell_type": "code",
      "metadata": {
        "colab": {
          "base_uri": "https://localhost:8080/"
        },
        "id": "v-on_vOCOxzG",
        "outputId": "89bdfe92-72d0-4b26-ead3-e31372241c2d"
      },
      "source": [
        "from sklearn.linear_model import LinearRegression\n",
        "from sklearn.metrics import r2_score\n",
        "\n",
        "linearReg = LinearRegression().fit(X_train, y_train)\n",
        "pred_y = linearReg.predict(X_test)\n",
        "\n",
        "r2_score(y_test, pred_y)"
      ],
      "execution_count": null,
      "outputs": [
        {
          "output_type": "execute_result",
          "data": {
            "text/plain": [
              "0.7050779023623299"
            ]
          },
          "metadata": {
            "tags": []
          },
          "execution_count": 9
        }
      ]
    },
    {
      "cell_type": "markdown",
      "metadata": {
        "id": "3_6_FIx-jzWJ"
      },
      "source": [
        "### 2.3.3"
      ]
    },
    {
      "cell_type": "code",
      "metadata": {
        "colab": {
          "base_uri": "https://localhost:8080/"
        },
        "id": "C3qnGu2zOxzJ",
        "outputId": "a4d251dc-53b9-4fb7-a137-ae7c83432ee8"
      },
      "source": [
        "from sklearn.linear_model import RidgeCV\n",
        "\n",
        "ridge_cv = RidgeCV(alphas=[1e-4, 1e-3, 1e-2, 1e-1, 1]).fit(X_train, y_train)\n",
        "pred_y = ridge_cv.predict(X_test)\n",
        "\n",
        "r2_score(y_test, pred_y)\n"
      ],
      "execution_count": null,
      "outputs": [
        {
          "output_type": "execute_result",
          "data": {
            "text/plain": [
              "0.7050773481368704"
            ]
          },
          "metadata": {
            "tags": []
          },
          "execution_count": 10
        }
      ]
    },
    {
      "cell_type": "markdown",
      "metadata": {
        "id": "bhmCw_N8j2ud"
      },
      "source": [
        "### 2.3.4"
      ]
    },
    {
      "cell_type": "code",
      "metadata": {
        "colab": {
          "base_uri": "https://localhost:8080/",
          "height": 282
        },
        "id": "FYPEQQJIOxzP",
        "outputId": "bf379fc0-d515-4273-c63a-294c5696e660"
      },
      "source": [
        "from sklearn.model_selection import GridSearchCV\n",
        "from sklearn.svm import SVR\n",
        "import numpy as np\n",
        "import seaborn as sns\n",
        "svr = SVR(kernel='linear')\n",
        "parameters= {'C':np.arange(0.01, 5.5, 1.5), 'gamma':[0.05, 1, 10]}\n",
        "reg_svr = GridSearchCV(svr, parameters).fit(X_train, y_train)\n",
        "best_index = reg_svr.cv_results_[\"rank_test_score\"][0] - 1\n",
        "best_params = reg_svr.cv_results_[\"params\"]\n",
        "scores = reg_svr.cv_results_['mean_test_score'].reshape(4, 3)\n",
        "sns.heatmap(scores, yticklabels=parameters['gamma'], xticklabels=parameters['C'])"
      ],
      "execution_count": null,
      "outputs": [
        {
          "output_type": "execute_result",
          "data": {
            "text/plain": [
              "<matplotlib.axes._subplots.AxesSubplot at 0x7fbdd2ec22d0>"
            ]
          },
          "metadata": {
            "tags": []
          },
          "execution_count": 11
        },
        {
          "output_type": "display_data",
          "data": {
            "image/png": "[encoded data removed]",
            "text/plain": [
              "<Figure size 432x288 with 2 Axes>"
            ]
          },
          "metadata": {
            "tags": [],
            "needs_background": "light"
          }
        }
      ]
    },
    {
      "cell_type": "code",
      "metadata": {
        "colab": {
          "base_uri": "https://localhost:8080/"
        },
        "id": "Ru943fLHOxzR",
        "outputId": "4928fe15-c69c-4a6d-adbc-ab4ac5ec5958"
      },
      "source": [
        "best_model = best_params[best_index]\n",
        "best_model"
      ],
      "execution_count": null,
      "outputs": [
        {
          "output_type": "execute_result",
          "data": {
            "text/plain": [
              "{'C': 4.51, 'gamma': 0.05}"
            ]
          },
          "metadata": {
            "tags": []
          },
          "execution_count": 12
        }
      ]
    },
    {
      "cell_type": "code",
      "metadata": {
        "colab": {
          "base_uri": "https://localhost:8080/"
        },
        "id": "KK_D1_2jOxzT",
        "outputId": "fe8fb9c7-08aa-45e2-d07c-6e810995770a"
      },
      "source": [
        "best_svr = SVR(C=best_model['C'], gamma=best_model['gamma']).fit(X_train, y_train)\n",
        "pred_y = best_svr.predict(X_test)\n",
        "r2_score(y_test, pred_y)"
      ],
      "execution_count": null,
      "outputs": [
        {
          "output_type": "execute_result",
          "data": {
            "text/plain": [
              "0.13877674397892903"
            ]
          },
          "metadata": {
            "tags": []
          },
          "execution_count": 13
        }
      ]
    },
    {
      "cell_type": "code",
      "metadata": {
        "colab": {
          "base_uri": "https://localhost:8080/",
          "height": 282
        },
        "id": "klZyt85tOxzV",
        "outputId": "dc88214b-6c84-464f-9fa9-5b08e60a3b3c"
      },
      "source": [
        "from sklearn.tree import DecisionTreeRegressor\n",
        "import seaborn as sns\n",
        "dtreer = DecisionTreeRegressor()\n",
        "parameters= {'splitter':['best', 'random'], 'criterion':['mse', 'mae'], 'ccp_alpha':[1e-14, 1e-11, 1e-8]}\n",
        "reg_dtree = GridSearchCV(dtreer, parameters).fit(X_train, y_train)\n",
        "reg_dtree.cv_results_[\"rank_test_score\"]\n",
        "best_index = reg_dtree.cv_results_[\"rank_test_score\"][0] - 1\n",
        "best_params = reg_dtree.cv_results_[\"params\"]\n",
        "scores = reg_dtree.cv_results_['mean_test_score'].reshape(4, 3)\n",
        "sns.heatmap(scores, xticklabels=parameters['ccp_alpha'], yticklabels=parameters['splitter']+parameters['criterion'])"
      ],
      "execution_count": null,
      "outputs": [
        {
          "output_type": "execute_result",
          "data": {
            "text/plain": [
              "<matplotlib.axes._subplots.AxesSubplot at 0x7fbdd1afead0>"
            ]
          },
          "metadata": {
            "tags": []
          },
          "execution_count": 14
        },
        {
          "output_type": "display_data",
          "data": {
            "image/png": "[encoded data removed]",
            "text/plain": [
              "<Figure size 432x288 with 2 Axes>"
            ]
          },
          "metadata": {
            "tags": [],
            "needs_background": "light"
          }
        }
      ]
    },
    {
      "cell_type": "code",
      "metadata": {
        "colab": {
          "base_uri": "https://localhost:8080/"
        },
        "id": "GlZYK6UBOxzY",
        "outputId": "4f230bb3-5cc8-4329-d614-892a54696dbb"
      },
      "source": [
        "best_model = best_params[best_index]\n",
        "best_model"
      ],
      "execution_count": null,
      "outputs": [
        {
          "output_type": "execute_result",
          "data": {
            "text/plain": [
              "{'ccp_alpha': 1e-14, 'criterion': 'mae', 'splitter': 'best'}"
            ]
          },
          "metadata": {
            "tags": []
          },
          "execution_count": 15
        }
      ]
    },
    {
      "cell_type": "code",
      "metadata": {
        "colab": {
          "base_uri": "https://localhost:8080/"
        },
        "id": "SzalRpcBOxzb",
        "outputId": "564f8a28-6a83-4045-9e44-bd9b66ad8a81"
      },
      "source": [
        "best_dtreer = DecisionTreeRegressor(splitter=best_model['splitter'], criterion=best_model['criterion'], ccp_alpha=best_model['ccp_alpha']).fit(X_train, y_train)\n",
        "pred_y = best_dtreer.predict(X_test)\n",
        "r2_score(y_test, pred_y)"
      ],
      "execution_count": null,
      "outputs": [
        {
          "output_type": "execute_result",
          "data": {
            "text/plain": [
              "0.5712829419315865"
            ]
          },
          "metadata": {
            "tags": []
          },
          "execution_count": 16
        }
      ]
    },
    {
      "cell_type": "markdown",
      "metadata": {
        "id": "ybL8o3Guj6xO"
      },
      "source": [
        "## 2.4"
      ]
    },
    {
      "cell_type": "code",
      "metadata": {
        "id": "Z3yiNDc8Oxzd"
      },
      "source": [
        "from sklearn.impute import SimpleImputer\n",
        "X, y = data_nose[0].reshape(-1, 1), data_nose[1]\n",
        "X_new = SimpleImputer(missing_values=np.nan, strategy='mean').fit_transform(X)\n",
        "y_new = SimpleImputer(missing_values=np.nan, strategy='mean').fit_transform(y.reshape(-1, 1))"
      ],
      "execution_count": null,
      "outputs": []
    },
    {
      "cell_type": "code",
      "metadata": {
        "colab": {
          "base_uri": "https://localhost:8080/"
        },
        "id": "LCm-GesAOxzf",
        "outputId": "e60d940f-75dc-4e2f-bdc2-76ee221fc171"
      },
      "source": [
        "y_new.reshape(1, -1)[0]"
      ],
      "execution_count": null,
      "outputs": [
        {
          "output_type": "execute_result",
          "data": {
            "text/plain": [
              "array([241.        , 222.        , 233.        , 207.        ,\n",
              "       247.        , 189.        , 226.        , 240.        ,\n",
              "       215.        , 231.        , 263.        , 220.        ,\n",
              "       271.        , 284.        , 279.        , 272.        ,\n",
              "       268.        , 278.        , 238.        , 255.        ,\n",
              "       308.        , 281.        , 288.        , 306.        ,\n",
              "       236.        , 204.        , 216.        , 225.        ,\n",
              "       220.        , 219.        , 201.        , 213.        ,\n",
              "       228.        , 234.        , 237.        , 217.        ,\n",
              "       211.        , 238.        , 221.        , 281.        ,\n",
              "       292.        , 251.        , 231.        , 275.        ,\n",
              "       275.        , 244.36170213, 244.36170213, 202.        ,\n",
              "       296.        , 244.36170213, 244.36170213])"
            ]
          },
          "metadata": {
            "tags": []
          },
          "execution_count": 18
        }
      ]
    },
    {
      "cell_type": "code",
      "metadata": {
        "colab": {
          "base_uri": "https://localhost:8080/"
        },
        "id": "fNON61nROxzh",
        "outputId": "09d712f9-9e1c-44d7-e88d-df2795216271"
      },
      "source": [
        "linearReg = LinearRegression().fit(X_new, y_new.reshape(1, -1)[0])\n",
        "pred_y = linearReg.predict(X_test)\n",
        "r2_score(y_test, pred_y)"
      ],
      "execution_count": null,
      "outputs": [
        {
          "output_type": "execute_result",
          "data": {
            "text/plain": [
              "0.677514796416723"
            ]
          },
          "metadata": {
            "tags": []
          },
          "execution_count": 19
        }
      ]
    },
    {
      "cell_type": "code",
      "metadata": {
        "colab": {
          "base_uri": "https://localhost:8080/"
        },
        "id": "oLeVrlYIOxzi",
        "outputId": "50cf3f17-f3a4-4076-c423-55f3841ff5eb"
      },
      "source": [
        "from sklearn.impute import KNNImputer\n",
        "from sklearn.neighbors import KNeighborsRegressor\n",
        "X_new = KNNImputer(n_neighbors=3).fit_transform(X)\n",
        "y_new = KNNImputer(n_neighbors=3).fit_transform(y.reshape(-1, 1))\n",
        "knnReg = KNeighborsRegressor(3).fit(X_new, y_new.reshape(1, -1)[0])\n",
        "pred_y = knnReg.predict(X_test)\n",
        "r2_score(y_test, pred_y)"
      ],
      "execution_count": null,
      "outputs": [
        {
          "output_type": "execute_result",
          "data": {
            "text/plain": [
              "0.9307181152306878"
            ]
          },
          "metadata": {
            "tags": []
          },
          "execution_count": 20
        }
      ]
    }
  ]
}